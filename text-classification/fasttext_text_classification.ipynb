{
 "cells": [
  {
   "cell_type": "code",
   "execution_count": 4,
   "id": "2f13fb92-dd81-47a6-89f1-f70e191d4a85",
   "metadata": {},
   "outputs": [],
   "source": [
    "import pandas as pd\n",
    "from fasttext import train_supervised"
   ]
  },
  {
   "cell_type": "markdown",
   "id": "ed6350ce-7892-4e78-b839-f64e12be7e83",
   "metadata": {},
   "source": [
    "# データセット解凍・読み込み\n",
    "\n",
    "用いるデータセットは14のクラスに対するテキストを均等に含むデータで, 学習データ560,000件, テストデータ70,000件である."
   ]
  },
  {
   "cell_type": "code",
   "execution_count": 2,
   "id": "f36fc7b8-088f-4a34-875c-7dbac5770c09",
   "metadata": {},
   "outputs": [
    {
     "name": "stdout",
     "output_type": "stream",
     "text": [
      "dbpedia_csv/\n",
      "dbpedia_csv/test.csv\n",
      "dbpedia_csv/classes.txt\n",
      "dbpedia_csv/train.csv\n",
      "dbpedia_csv/readme.txt\n"
     ]
    }
   ],
   "source": [
    "!tar -xvf data/dbpedia_csv.tar.gz -C data"
   ]
  },
  {
   "cell_type": "code",
   "execution_count": 6,
   "id": "b5c5435b-fa32-41e5-a2c8-b80ed83bdad9",
   "metadata": {},
   "outputs": [
    {
     "name": "stdout",
     "output_type": "stream",
     "text": [
      "(560000, 3) (70000, 3)\n"
     ]
    }
   ],
   "source": [
    "data_path = \"data\"\n",
    "\n",
    "train_file = data_path+\"/dbpedia_csv/train.csv\"\n",
    "df = pd.read_csv(train_file,header=None,names=[\"class\",\"name\",\"description\"])\n",
    "\n",
    "test_file = data_path+\"/dbpedia_csv/test.csv\"\n",
    "df_test = pd.read_csv(test_file,header=None,names=[\"class\",\"name\",\"description\"])\n",
    "\n",
    "print(df.shape,df_test.shape)"
   ]
  },
  {
   "cell_type": "code",
   "execution_count": 7,
   "id": "8bbb6260-3da1-43ac-bcb8-b0e8687c9783",
   "metadata": {},
   "outputs": [
    {
     "data": {
      "text/html": [
       "<div>\n",
       "<style scoped>\n",
       "    .dataframe tbody tr th:only-of-type {\n",
       "        vertical-align: middle;\n",
       "    }\n",
       "\n",
       "    .dataframe tbody tr th {\n",
       "        vertical-align: top;\n",
       "    }\n",
       "\n",
       "    .dataframe thead th {\n",
       "        text-align: right;\n",
       "    }\n",
       "</style>\n",
       "<table border=\"1\" class=\"dataframe\">\n",
       "  <thead>\n",
       "    <tr style=\"text-align: right;\">\n",
       "      <th></th>\n",
       "      <th>class</th>\n",
       "      <th>name</th>\n",
       "      <th>description</th>\n",
       "    </tr>\n",
       "  </thead>\n",
       "  <tbody>\n",
       "    <tr>\n",
       "      <th>0</th>\n",
       "      <td>1</td>\n",
       "      <td>E. D. Abbott Ltd</td>\n",
       "      <td>Abbott of Farnham E D Abbott Limited was a Br...</td>\n",
       "    </tr>\n",
       "    <tr>\n",
       "      <th>1</th>\n",
       "      <td>1</td>\n",
       "      <td>Schwan-Stabilo</td>\n",
       "      <td>Schwan-STABILO is a German maker of pens for ...</td>\n",
       "    </tr>\n",
       "    <tr>\n",
       "      <th>2</th>\n",
       "      <td>1</td>\n",
       "      <td>Q-workshop</td>\n",
       "      <td>Q-workshop is a Polish company located in Poz...</td>\n",
       "    </tr>\n",
       "    <tr>\n",
       "      <th>3</th>\n",
       "      <td>1</td>\n",
       "      <td>Marvell Software Solutions Israel</td>\n",
       "      <td>Marvell Software Solutions Israel known as RA...</td>\n",
       "    </tr>\n",
       "    <tr>\n",
       "      <th>4</th>\n",
       "      <td>1</td>\n",
       "      <td>Bergan Mercy Medical Center</td>\n",
       "      <td>Bergan Mercy Medical Center is a hospital loc...</td>\n",
       "    </tr>\n",
       "  </tbody>\n",
       "</table>\n",
       "</div>"
      ],
      "text/plain": [
       "   class                               name  \\\n",
       "0      1                   E. D. Abbott Ltd   \n",
       "1      1                     Schwan-Stabilo   \n",
       "2      1                         Q-workshop   \n",
       "3      1  Marvell Software Solutions Israel   \n",
       "4      1        Bergan Mercy Medical Center   \n",
       "\n",
       "                                         description  \n",
       "0   Abbott of Farnham E D Abbott Limited was a Br...  \n",
       "1   Schwan-STABILO is a German maker of pens for ...  \n",
       "2   Q-workshop is a Polish company located in Poz...  \n",
       "3   Marvell Software Solutions Israel known as RA...  \n",
       "4   Bergan Mercy Medical Center is a hospital loc...  "
      ]
     },
     "execution_count": 7,
     "metadata": {},
     "output_type": "execute_result"
    }
   ],
   "source": [
    "df.head()"
   ]
  },
  {
   "cell_type": "markdown",
   "id": "6f9851cb-7917-48d2-b29b-9cba579de972",
   "metadata": {},
   "source": [
    "# 前処理"
   ]
  },
  {
   "cell_type": "code",
   "execution_count": 8,
   "id": "3e059930-95a9-4470-8b05-4b49a162db55",
   "metadata": {},
   "outputs": [
    {
     "data": {
      "text/html": [
       "<div>\n",
       "<style scoped>\n",
       "    .dataframe tbody tr th:only-of-type {\n",
       "        vertical-align: middle;\n",
       "    }\n",
       "\n",
       "    .dataframe tbody tr th {\n",
       "        vertical-align: top;\n",
       "    }\n",
       "\n",
       "    .dataframe thead th {\n",
       "        text-align: right;\n",
       "    }\n",
       "</style>\n",
       "<table border=\"1\" class=\"dataframe\">\n",
       "  <thead>\n",
       "    <tr style=\"text-align: right;\">\n",
       "      <th></th>\n",
       "      <th>class</th>\n",
       "      <th>name</th>\n",
       "      <th>description</th>\n",
       "      <th>class_name</th>\n",
       "    </tr>\n",
       "  </thead>\n",
       "  <tbody>\n",
       "    <tr>\n",
       "      <th>0</th>\n",
       "      <td>1</td>\n",
       "      <td>E. D. Abbott Ltd</td>\n",
       "      <td>Abbott of Farnham E D Abbott Limited was a Br...</td>\n",
       "      <td>Company</td>\n",
       "    </tr>\n",
       "    <tr>\n",
       "      <th>1</th>\n",
       "      <td>1</td>\n",
       "      <td>Schwan-Stabilo</td>\n",
       "      <td>Schwan-STABILO is a German maker of pens for ...</td>\n",
       "      <td>Company</td>\n",
       "    </tr>\n",
       "    <tr>\n",
       "      <th>2</th>\n",
       "      <td>1</td>\n",
       "      <td>Q-workshop</td>\n",
       "      <td>Q-workshop is a Polish company located in Poz...</td>\n",
       "      <td>Company</td>\n",
       "    </tr>\n",
       "    <tr>\n",
       "      <th>3</th>\n",
       "      <td>1</td>\n",
       "      <td>Marvell Software Solutions Israel</td>\n",
       "      <td>Marvell Software Solutions Israel known as RA...</td>\n",
       "      <td>Company</td>\n",
       "    </tr>\n",
       "    <tr>\n",
       "      <th>4</th>\n",
       "      <td>1</td>\n",
       "      <td>Bergan Mercy Medical Center</td>\n",
       "      <td>Bergan Mercy Medical Center is a hospital loc...</td>\n",
       "      <td>Company</td>\n",
       "    </tr>\n",
       "  </tbody>\n",
       "</table>\n",
       "</div>"
      ],
      "text/plain": [
       "   class                               name  \\\n",
       "0      1                   E. D. Abbott Ltd   \n",
       "1      1                     Schwan-Stabilo   \n",
       "2      1                         Q-workshop   \n",
       "3      1  Marvell Software Solutions Israel   \n",
       "4      1        Bergan Mercy Medical Center   \n",
       "\n",
       "                                         description class_name  \n",
       "0   Abbott of Farnham E D Abbott Limited was a Br...    Company  \n",
       "1   Schwan-STABILO is a German maker of pens for ...    Company  \n",
       "2   Q-workshop is a Polish company located in Poz...    Company  \n",
       "3   Marvell Software Solutions Israel known as RA...    Company  \n",
       "4   Bergan Mercy Medical Center is a hospital loc...    Company  "
      ]
     },
     "execution_count": 8,
     "metadata": {},
     "output_type": "execute_result"
    }
   ],
   "source": [
    "# 各クラスの意味\n",
    "class_dict={\n",
    "    1: 'Company',\n",
    "    2: 'EducationalInstitution',\n",
    "    3: 'Artist',\n",
    "    4: 'Athlete',\n",
    "    5: 'OfficeHolder',\n",
    "    6: 'MeanOfTransportation',\n",
    "    7: 'Building',\n",
    "    8: 'NaturalPlace',\n",
    "    9: 'Village',\n",
    "    10: 'Animal',\n",
    "    11: 'Plant',\n",
    "    12: 'Album',\n",
    "    13: 'Film',\n",
    "    14: 'WrittenWork'\n",
    "}\n",
    "\n",
    "df[\"class_name\"] = df[\"class\"].map(class_dict) \n",
    "df.head()"
   ]
  },
  {
   "cell_type": "code",
   "execution_count": 9,
   "id": "89240344-0cf9-4398-a1e9-ed7bdd4832c4",
   "metadata": {},
   "outputs": [
    {
     "data": {
      "text/plain": [
       "Company                   40000\n",
       "EducationalInstitution    40000\n",
       "Artist                    40000\n",
       "Athlete                   40000\n",
       "OfficeHolder              40000\n",
       "MeanOfTransportation      40000\n",
       "Building                  40000\n",
       "NaturalPlace              40000\n",
       "Village                   40000\n",
       "Animal                    40000\n",
       "Plant                     40000\n",
       "Album                     40000\n",
       "Film                      40000\n",
       "WrittenWork               40000\n",
       "Name: class_name, dtype: int64"
      ]
     },
     "execution_count": 9,
     "metadata": {},
     "output_type": "execute_result"
    }
   ],
   "source": [
    "df[\"class_name\"].value_counts()"
   ]
  },
  {
   "cell_type": "code",
   "execution_count": 10,
   "id": "894466cd-aac7-4298-acca-4a4311ac59d0",
   "metadata": {},
   "outputs": [],
   "source": [
    "def clean_it(text,normalize=True):\n",
    "    # 文字の置き換え\n",
    "    s = str(text)\\\n",
    "            .replace(',', ' ')\\\n",
    "            .replace('\"', '')\\\n",
    "            .replace('\\'', ' \\' ')\\\n",
    "            .replace('.', ' . ')\\\n",
    "            .replace('(', ' ( ')\\\n",
    "            .replace(')', ' ) ')\\\n",
    "            .replace('!', ' ! ')\\\n",
    "            .replace('?', ' ? ')\\\n",
    "            .replace(':', ' ')\\\n",
    "            .replace(';', ' ')\\\n",
    "            .lower()\n",
    "    if normalize:\n",
    "        # 正規化\n",
    "        s = s.normalize(\"NFKD\").str.encode(\"ascii\",\"ignore\").str.decode(\"utf-8\")\n",
    "        \n",
    "    return s\n",
    "\n",
    "def clean_df(data,cleanit=False,shuffleit=False,encodeit=False,label_prefix=\"__class__\"):\n",
    "    df = data[[\"name\",\"description\"]].copy(deep=True)\n",
    "    df[\"class\"] = label_prefix+data[\"class\"].astype(str)+\" \"\n",
    "    \n",
    "    if cleanit:\n",
    "        df['name'] = df['name'].apply(lambda x: clean_it(x, encodeit))\n",
    "        df['description'] = df['description'].apply(lambda x: clean_it(x, encodeit))\n",
    "        \n",
    "    if shuffleit:\n",
    "        df.sample(frac=1).reset_index(drop=True)\n",
    "    \n",
    "    return df"
   ]
  },
  {
   "cell_type": "code",
   "execution_count": 11,
   "id": "4b273c3c-9c6d-41ba-9faf-146c84856074",
   "metadata": {},
   "outputs": [],
   "source": [
    "df_train_cleaned = clean_df(df, True, True)\n",
    "df_test_cleaned = clean_df(df_test, True, True)"
   ]
  },
  {
   "cell_type": "code",
   "execution_count": 12,
   "id": "bebcd10b-67fa-4eea-bf23-1d84f5d03da9",
   "metadata": {},
   "outputs": [],
   "source": [
    "df_train_cleaned = df_train_cleaned.sample(frac=1, random_state=0)\n",
    "df_test_cleaned = df_test_cleaned.sample(frac=1, random_state=0)"
   ]
  },
  {
   "cell_type": "code",
   "execution_count": 14,
   "id": "9c0b4672-0af7-483c-ae5f-ddfe0bfe8eb7",
   "metadata": {},
   "outputs": [
    {
     "data": {
      "text/html": [
       "<div>\n",
       "<style scoped>\n",
       "    .dataframe tbody tr th:only-of-type {\n",
       "        vertical-align: middle;\n",
       "    }\n",
       "\n",
       "    .dataframe tbody tr th {\n",
       "        vertical-align: top;\n",
       "    }\n",
       "\n",
       "    .dataframe thead th {\n",
       "        text-align: right;\n",
       "    }\n",
       "</style>\n",
       "<table border=\"1\" class=\"dataframe\">\n",
       "  <thead>\n",
       "    <tr style=\"text-align: right;\">\n",
       "      <th></th>\n",
       "      <th>name</th>\n",
       "      <th>description</th>\n",
       "      <th>class</th>\n",
       "    </tr>\n",
       "  </thead>\n",
       "  <tbody>\n",
       "    <tr>\n",
       "      <th>245601</th>\n",
       "      <td>waterways experiment station</td>\n",
       "      <td>the waterways experiment station also known a...</td>\n",
       "      <td>__class__7</td>\n",
       "    </tr>\n",
       "    <tr>\n",
       "      <th>252469</th>\n",
       "      <td>ibm building  ( seattle )</td>\n",
       "      <td>the ibm building is a 20-story skyscraper in ...</td>\n",
       "      <td>__class__7</td>\n",
       "    </tr>\n",
       "    <tr>\n",
       "      <th>227560</th>\n",
       "      <td>royal enfield fury</td>\n",
       "      <td>the royal enfield fury is a british motorcycl...</td>\n",
       "      <td>__class__6</td>\n",
       "    </tr>\n",
       "    <tr>\n",
       "      <th>144727</th>\n",
       "      <td>andrés gómez</td>\n",
       "      <td>andrés gómez santos  ( born february 27 1960 ...</td>\n",
       "      <td>__class__4</td>\n",
       "    </tr>\n",
       "    <tr>\n",
       "      <th>196076</th>\n",
       "      <td>nita deerpalsing</td>\n",
       "      <td>kumaree rajeshree deerpalsing mp  ( born नीता...</td>\n",
       "      <td>__class__5</td>\n",
       "    </tr>\n",
       "  </tbody>\n",
       "</table>\n",
       "</div>"
      ],
      "text/plain": [
       "                                name  \\\n",
       "245601  waterways experiment station   \n",
       "252469    ibm building  ( seattle )    \n",
       "227560            royal enfield fury   \n",
       "144727                  andrés gómez   \n",
       "196076              nita deerpalsing   \n",
       "\n",
       "                                              description        class  \n",
       "245601   the waterways experiment station also known a...  __class__7   \n",
       "252469   the ibm building is a 20-story skyscraper in ...  __class__7   \n",
       "227560   the royal enfield fury is a british motorcycl...  __class__6   \n",
       "144727   andrés gómez santos  ( born february 27 1960 ...  __class__4   \n",
       "196076   kumaree rajeshree deerpalsing mp  ( born नीता...  __class__5   "
      ]
     },
     "execution_count": 14,
     "metadata": {},
     "output_type": "execute_result"
    }
   ],
   "source": [
    "df_train_cleaned.head()"
   ]
  },
  {
   "cell_type": "code",
   "execution_count": 15,
   "id": "b6b0d094-3766-4c05-99a6-6f8d909b4732",
   "metadata": {},
   "outputs": [],
   "source": [
    "# クリーニングしたデータを保存\n",
    "train_file = data_path + '/dbpedia_train.csv'\n",
    "test_file = data_path + '/dbpedia_test.csv'\n",
    "\n",
    "columns = ['class', 'name', 'description']\n",
    "df_train_cleaned.to_csv(\n",
    "    train_file,\n",
    "    header=None,\n",
    "    index=False,\n",
    "    columns=columns\n",
    ")\n",
    "df_test_cleaned.to_csv(\n",
    "    test_file,\n",
    "    header=None,\n",
    "    index=False,\n",
    "    columns=columns\n",
    ")"
   ]
  },
  {
   "cell_type": "code",
   "execution_count": 16,
   "id": "a62b239c-18e3-43ac-af5d-e09b2ca2e1ed",
   "metadata": {},
   "outputs": [
    {
     "name": "stdout",
     "output_type": "stream",
     "text": [
      "__class__7 ,waterways experiment station, the waterways experiment station also known as wes-original cantonment in vicksburg mississippi is a sprawling 673-acre  ( 272 ha )  complex built in 1930 as an united states army corps of engineers research facility .  its campus is the site of the headquarters of the engineer research and development center  ( erdc )  of the corps of engineers .  wes is the largest of the four corps of engineers '  research and development laboratories .  the facility was listed on the u . s . \n",
      "__class__7 ,ibm building  ( seattle ) , the ibm building is a 20-story skyscraper in the metropolitan tract at 1200 fifth avenue seattle washington .  the building was designed by minoru yamasaki who also was architect of rainier tower on the corner diagonally opposite and the world trade center in new york city . \n",
      "__class__6 ,royal enfield fury, the royal enfield fury is a british motorcycle made by royal enfield at their factory in redditch .  the fury name has also been used by royal enfield motors in india for a 175 cc motorcycle and for a new 499 cc single in their range for 2011 . \n",
      "__class__4 ,andrés gómez, andrés gómez santos  ( born february 27 1960 in guayaquil ecuador )  is an ecuadorian former professional tennis player best known for winning the men ' s singles title at the french open in 1990 . \n",
      "__class__5 ,nita deerpalsing, kumaree rajeshree deerpalsing mp  ( born नीता दीरपालसिंग on 27 january 1965 )  also known as nita deerpalsing is the 3rd member of parliament elected serving for constituency no 18 belle rose & quatre bornes since 2005 . \n",
      "__class__10 ,stoplight loosejaw, the stoplight loosejaws are small deep-sea dragonfishes of the genus malacosteus classified either within the subfamily malacosteinae of the family stomiidae or in the separate family malacosteidae .  they are found worldwide outside of the arctic and subantarctic in the mesopelagic zone below a depth of 500 meters  ( 1600 feet )  .  this genus once contained three nominal species  m .  niger  ( the type )  m .  choristodactylus and m . \n",
      "__class__5 ,j .  c .  gilbert, jess carr gilbert ii known as sonny gilbert  ( born march 6 1922 )  is a retired cotton farmer and a former democratic member of both houses of the louisiana state legislature from the town of sicily island in catahoula parish in northeastern louisiana .  gilbert served three consecutive terms in the louisiana state senate from 1960 to 1972 having represented franklin richland and catahoula parishes . \n",
      "__class__13 ,andha yudh, andha yudh is a 1987 indian film directed by dayal nihalani . \n",
      "__class__4 ,alfredo marcos da silva junior, alfredo marcos da silva junior known as marcão  ( born 2 april 1986 )  is a brazilian professional footballer who most recently played for belgian club westerlo as a striker . \n",
      "__class__1 ,first hawaiian bank, first hawaiian bank is a regional commercial bank headquartered in honolulu hawaii at the first hawaiian center .  it is a subsidiary of bancwest corporation which itself is a subsidiary of the french banking company bnp paribas .  founded in 1858 first hawaiian is the oldest and largest  ( by deposits loans and total assets )  bank in the state of hawaii and claims to be the second oldest bank west of the rockies . \n"
     ]
    }
   ],
   "source": [
    "!head data/dbpedia_train.csv"
   ]
  },
  {
   "cell_type": "markdown",
   "id": "82930b31-25a8-4845-9d17-684be815d9b5",
   "metadata": {},
   "source": [
    "# モデリング"
   ]
  },
  {
   "cell_type": "code",
   "execution_count": 18,
   "id": "c2e72915-b6b4-49c2-8c2d-669ff988b4dc",
   "metadata": {},
   "outputs": [
    {
     "name": "stderr",
     "output_type": "stream",
     "text": [
      "Read 31M words\n",
      "Number of words:  1116962\n",
      "Number of labels: 14\n",
      "Progress: 100.0% words/sec/thread: 3068616 lr:  0.000000 avg.loss:  0.092851 ETA:   0h 0m 0s100.0% words/sec/thread: 3068671 lr: -0.000000 avg.loss:  0.092851 ETA:   0h 0m 0s\n"
     ]
    }
   ],
   "source": [
    "model = train_supervised(input = train_file,\n",
    "                        label=\"__class__\",\n",
    "                        lr=0.1,\n",
    "                        dim=10,\n",
    "                        epoch=5,\n",
    "                        wordNgrams=2,\n",
    "                        seed=0)"
   ]
  },
  {
   "cell_type": "code",
   "execution_count": 19,
   "id": "044a25f5-9964-4edf-ba8d-4ee510527b4b",
   "metadata": {},
   "outputs": [
    {
     "name": "stdout",
     "output_type": "stream",
     "text": [
      "Test Samples: 70000 Precision@1 : 98.4171 Recall@1 : 98.4171\n",
      "Test Samples: 70000 Precision@2 : 49.8207 Recall@2 : 99.6414\n",
      "Test Samples: 70000 Precision@3 : 33.2800 Recall@3 : 99.8400\n",
      "Test Samples: 70000 Precision@4 : 24.9754 Recall@4 : 99.9014\n",
      "Test Samples: 70000 Precision@5 : 19.9877 Recall@5 : 99.9386\n"
     ]
    }
   ],
   "source": [
    "for k in range(1,6):\n",
    "    results = model.test(test_file, k=k)\n",
    "    print(f\"Test Samples: {results[0]} Precision@{k} : {results[1]*100:2.4f} Recall@{k} : {results[2]*100:2.4f}\")"
   ]
  },
  {
   "cell_type": "code",
   "execution_count": 20,
   "id": "a7c91629-1903-45a4-a0ab-08511f0d57d5",
   "metadata": {},
   "outputs": [],
   "source": [
    "model.save_model(\"model.bin\")"
   ]
  },
  {
   "cell_type": "code",
   "execution_count": 21,
   "id": "307f1d35-567c-435c-a323-10c601dcaa05",
   "metadata": {},
   "outputs": [
    {
     "name": "stdout",
     "output_type": "stream",
     "text": [
      "-rw-r--r-- 1 root root 140M Mar  8 16:07 model.bin\n"
     ]
    }
   ],
   "source": [
    "!ls -lh model.bin"
   ]
  },
  {
   "cell_type": "markdown",
   "id": "34757452-6eda-4dcc-a695-18022f5921c0",
   "metadata": {},
   "source": [
    "# ロジスティック回帰による分類器の作成\n",
    "\n",
    "学習済み単語埋め込みとして上で作成したfastTextのものを用いる. 用いるデータはword2vec_text_classification.ipynbと同じ. "
   ]
  },
  {
   "cell_type": "code",
   "execution_count": 40,
   "id": "a20e1348-6ea9-4477-b693-a7d6a45bfb02",
   "metadata": {},
   "outputs": [],
   "source": [
    "import os\n",
    "import numpy as np\n",
    "import matplotlib.pyplot as plt\n",
    "import itertools\n",
    "from string import punctuation\n",
    "import fasttext\n",
    "from nltk.tokenize import word_tokenize\n",
    "from nltk.corpus import stopwords\n",
    "\n",
    "from sklearn.linear_model import LogisticRegression\n",
    "from sklearn.model_selection import train_test_split\n",
    "from sklearn.metrics import accuracy_score, confusion_matrix"
   ]
  },
  {
   "cell_type": "code",
   "execution_count": 37,
   "id": "9182b63f-884b-48e8-bd80-8b7f2da61d8c",
   "metadata": {},
   "outputs": [
    {
     "name": "stdout",
     "output_type": "stream",
     "text": [
      "done loading Word2Vec\n"
     ]
    },
    {
     "name": "stderr",
     "output_type": "stream",
     "text": [
      "Warning : `load_model` does not return WordVectorModel or SupervisedModel any more, but a `FastText` object which is very similar.\n"
     ]
    }
   ],
   "source": [
    "data_path = \"data\"\n",
    "model_path = \"model.bin\"\n",
    "training_data_path = os.path.join(data_path,\"sentiment_sentences.txt\")\n",
    "# 自分で作成したモデルを読み込み\n",
    "w2v_model = fasttext.load_model(model_path)\n",
    "print('done loading Word2Vec')\n",
    "\n",
    "# テキストデータとカテゴリの読み取り\n",
    "texts = []\n",
    "cats = []\n",
    "fh = open(training_data_path)\n",
    "for line in fh:\n",
    "    text, sentiment = line.split(\"\\t\")\n",
    "    texts.append(text)\n",
    "    cats.append(sentiment)"
   ]
  },
  {
   "cell_type": "code",
   "execution_count": 44,
   "id": "5b6ff485-7493-4914-8d7f-aec0bfa85a99",
   "metadata": {},
   "outputs": [
    {
     "name": "stdout",
     "output_type": "stream",
     "text": [
      "3000 3000\n",
      "Good case, Excellent value.\n",
      "1\n",
      "\n"
     ]
    }
   ],
   "source": [
    "# データセットの確認\n",
    "print(len(cats), len(texts))\n",
    "print(texts[1])\n",
    "print(cats[1])"
   ]
  },
  {
   "cell_type": "markdown",
   "id": "bb23ade7-9bf9-4af8-876b-d17f9c832f42",
   "metadata": {},
   "source": [
    "## 前処理"
   ]
  },
  {
   "cell_type": "code",
   "execution_count": 45,
   "id": "88419223-56e5-4f3d-ba37-604ae40332b9",
   "metadata": {},
   "outputs": [
    {
     "name": "stdout",
     "output_type": "stream",
     "text": [
      "3000 3000\n",
      "['good', 'case', 'excellent', 'value']\n",
      "1\n",
      "\n"
     ]
    }
   ],
   "source": [
    "# テキストの前処理\n",
    "def preprocess_corpus(texts):\n",
    "    mystopwords = set(stopwords.words(\"english\"))\n",
    "    def remove_stops_digits(tokens):\n",
    "        # 小文字化、ストップワードと数字の除去\n",
    "        return [token.lower() for token in tokens if token not in mystopwords and not token.isdigit()\n",
    "               and token not in punctuation]\n",
    "    return [remove_stops_digits(word_tokenize(text)) for text in texts]\n",
    "\n",
    "texts_processed = preprocess_corpus(texts)\n",
    "print(len(cats), len(texts_processed))\n",
    "print(texts_processed[1])\n",
    "print(cats[1])"
   ]
  },
  {
   "cell_type": "code",
   "execution_count": 47,
   "id": "9401b1d2-8d53-46c8-be38-12f640a153d5",
   "metadata": {},
   "outputs": [
    {
     "name": "stdout",
     "output_type": "stream",
     "text": [
      "3000\n"
     ]
    }
   ],
   "source": [
    "# 文に含まれる単語の埋め込みを平均して、特徴ベクトルを作成\n",
    "def embedding_feats(list_of_lists):\n",
    "    DIMENSION = 10\n",
    "    zero_vector = np.zeros(DIMENSION)\n",
    "    feats = []\n",
    "    for tokens in list_of_lists:\n",
    "        feat_for_this =  np.zeros(DIMENSION)\n",
    "        count_for_this = 0\n",
    "        for token in tokens: # tokensに含まれる1単語ずつに対して\n",
    "            if token in w2v_model: # モデルに単語が存在\n",
    "                feat_for_this += w2v_model[token]\n",
    "                count_for_this +=1\n",
    "        if count_for_this:\n",
    "          feats.append(feat_for_this / count_for_this)\n",
    "        else:\n",
    "          feats.append(feat_for_this)\n",
    "    return feats\n",
    "\n",
    "\n",
    "train_vectors = embedding_feats(texts_processed)\n",
    "print(len(train_vectors))"
   ]
  },
  {
   "cell_type": "markdown",
   "id": "1eaaaf67-f962-4265-8c10-b586c7406f96",
   "metadata": {},
   "source": [
    "## モデリング"
   ]
  },
  {
   "cell_type": "code",
   "execution_count": 48,
   "id": "0d90b12b-a528-4b9e-9617-26eb0db37228",
   "metadata": {},
   "outputs": [],
   "source": [
    "logreg = LogisticRegression(random_state=1234)\n",
    "train_data,test_data,train_cats,test_cats = train_test_split(train_vectors,cats)\n",
    "logreg.fit(train_data,train_cats)\n",
    "y_pred_cats = logreg.predict(test_data)"
   ]
  },
  {
   "cell_type": "code",
   "execution_count": 49,
   "id": "3f945eab-3be6-4a32-85f6-bd835c342e0d",
   "metadata": {},
   "outputs": [],
   "source": [
    "def plot_confusion_matrix(cm, classes,\n",
    "                          normalize=False,\n",
    "                          title='Confusion matrix',\n",
    "                          cmap=plt.cm.Blues):\n",
    "    \"\"\"\n",
    "    This function prints and plots the confusion matrix.\n",
    "    Normalization can be applied by setting `normalize=True`.\n",
    "    \"\"\"\n",
    "    if normalize:\n",
    "        cm = cm.astype('float') / cm.sum(axis=1)[:, np.newaxis]\n",
    "\n",
    "    plt.imshow(cm, interpolation='nearest', cmap=cmap)\n",
    "    plt.title(title)\n",
    "    plt.colorbar()\n",
    "    tick_marks = np.arange(len(classes))\n",
    "    plt.xticks(tick_marks, classes, rotation=45)\n",
    "    plt.yticks(tick_marks, classes)\n",
    "\n",
    "    fmt = '.2f' if normalize else 'd'\n",
    "    thresh = cm.max() / 2.\n",
    "    for i, j in itertools.product(range(cm.shape[0]), range(cm.shape[1])):\n",
    "        plt.text(j, i, format(cm[i, j], fmt),\n",
    "                 horizontalalignment=\"center\",\n",
    "                 color=\"white\" if cm[i, j] > thresh else \"black\")\n",
    "\n",
    "    plt.tight_layout()\n",
    "    plt.ylabel('True label', fontsize=15)\n",
    "    plt.xlabel('Predicted label', fontsize=15)"
   ]
  },
  {
   "cell_type": "code",
   "execution_count": 50,
   "id": "3ab4f0e9-cdac-4391-9c89-be67fe0e036c",
   "metadata": {},
   "outputs": [
    {
     "name": "stdout",
     "output_type": "stream",
     "text": [
      "Accuracy:  0.5533333333333333\n"
     ]
    },
    {
     "data": {
      "image/png": "[encoded data removed]",
      "text/plain": [
       "<Figure size 576x432 with 2 Axes>"
      ]
     },
     "metadata": {
      "needs_background": "light"
     },
     "output_type": "display_data"
    }
   ],
   "source": [
    "# 正解率\n",
    "print(\"Accuracy: \", accuracy_score(test_cats, y_pred_cats))\n",
    "\n",
    "    \n",
    "# 混同行列\n",
    "cnf_matrix = confusion_matrix(test_cats, y_pred_cats)\n",
    "plt.figure(figsize=(8,6))\n",
    "plot_confusion_matrix(\n",
    "    cnf_matrix,\n",
    "    classes=['0', '1'],\n",
    "    normalize=True,\n",
    "    title='Confusion matrix with all features'\n",
    ")"
   ]
  },
  {
   "cell_type": "code",
   "execution_count": null,
   "id": "1761a07c-0c77-41bb-a640-addb20b87261",
   "metadata": {},
   "outputs": [],
   "source": []
  }
 ],
 "metadata": {
  "kernelspec": {
   "display_name": "Python 3 (ipykernel)",
   "language": "python",
   "name": "python3"
  },
  "language_info": {
   "codemirror_mode": {
    "name": "ipython",
    "version": 3
   },
   "file_extension": ".py",
   "mimetype": "text/x-python",
   "name": "python",
   "nbconvert_exporter": "python",
   "pygments_lexer": "ipython3",
   "version": "3.8.10"
  }
 },
 "nbformat": 4,
 "nbformat_minor": 5
}
