{
 "cells": [
  {
   "cell_type": "markdown",
   "id": "2fb18282-f058-4af1-ba18-29a2f8928620",
   "metadata": {},
   "source": [
    "# One-hotエンコーディング\n",
    "One-hotエンコーディングを行うことでテキストをベクトル化することができる. One-hotエンコーディングによるテキスト表現は直観的で実装が簡単であるが, ベクトルの大きさが語彙数に比例することによってスパースな表現になる, テキストを固定長で表現できない, 単語間の類似性という概念を持たない, 未知の単語に適応できないという問題点がある."
   ]
  },
  {
   "cell_type": "code",
   "execution_count": 8,
   "id": "fa9c8f48-f0a9-4bf8-82b2-dbb8f1efb3ba",
   "metadata": {},
   "outputs": [
    {
     "name": "stdout",
     "output_type": "stream",
     "text": [
      "{'dog': 1, 'bites': 2, 'man': 3, 'eats': 4, 'meat': 5, 'food': 6}\n",
      "man bites dog\n",
      "[[0, 0, 1, 0, 0, 0], [0, 1, 0, 0, 0, 0], [1, 0, 0, 0, 0, 0]]\n"
     ]
    }
   ],
   "source": [
    "documents = [\"Dog bites man.\", \"Man bites dog.\", \"Dog eats meat.\", \"Man eats food.\"]\n",
    "# 小文字化してピリオドを取り除く\n",
    "processed_docs = [doc.lower().replace(\".\",\"\") for doc in documents]\n",
    "\n",
    "# vocabの構築\n",
    "vocab={}\n",
    "count = 0\n",
    "for doc in processed_docs:\n",
    "    for word in doc.split():\n",
    "        if word not in vocab:\n",
    "            count = count+1\n",
    "            vocab[word] = count\n",
    "print(vocab)\n",
    "\n",
    "def get_onehot_vector(somestring):\n",
    "    onehot_encoded = []\n",
    "    for word in somestring.split():\n",
    "        temp = [0]*len(vocab)\n",
    "        if word in vocab:\n",
    "            temp[vocab[word]-1] = 1\n",
    "        onehot_encoded.append(temp)\n",
    "    return onehot_encoded\n",
    "\n",
    "print(processed_docs[1])\n",
    "print(get_onehot_vector(processed_docs[1]))"
   ]
  },
  {
   "cell_type": "markdown",
   "id": "fc27f07c-8e91-4c0c-ace7-4add5e8f9557",
   "metadata": {},
   "source": [
    "## Bag of Words\n",
    "Bag of Wordsはテキストを単語の集合として表現することでテキスト表現を行う手法である. BoWは同じ単語を含むテキストのベクトル表現が近くなるため文書の類似性を捉えているといえる. また任意の長さの文を固定長の符号で表すことができる. 一方でスパース性の問題や, 同じ意味をもつ異なる単語への類似性がないこと, OOVが処理できない, 語順が失われるという問題がある."
   ]
  },
  {
   "cell_type": "code",
   "execution_count": 12,
   "id": "ee92744d-9f6c-4160-97ee-2824972572bd",
   "metadata": {},
   "outputs": [
    {
     "name": "stdout",
     "output_type": "stream",
     "text": [
      "{'dog': 1, 'bites': 0, 'man': 4, 'eats': 2, 'meat': 5, 'food': 3}\n",
      "dog bites man\n",
      "[[1 1 0 0 1 0]]\n",
      "man bites dog\n",
      "[[1 1 0 0 1 0]]\n",
      "dog eats meat\n",
      "[[0 1 1 0 0 1]]\n",
      "man eats food\n",
      "[[0 0 1 1 1 0]]\n",
      "[[0 2 0 0 0 0]]\n"
     ]
    }
   ],
   "source": [
    "from sklearn.feature_extraction.text import CountVectorizer\n",
    "\n",
    "count_vect = CountVectorizer()\n",
    "bow_rep = count_vect.fit_transform(processed_docs)\n",
    "\n",
    "# 語彙を表示\n",
    "print(count_vect.vocabulary_)\n",
    "\n",
    "# Bowを表示\n",
    "for i in range(len(processed_docs)):\n",
    "    print(processed_docs[i])\n",
    "    print(bow_rep[i].toarray())\n",
    "    \n",
    "# 新しいテキストに対するBoW\n",
    "temp = count_vect.transform([\"dog and dog are friends\"])\n",
    "print(temp.toarray())"
   ]
  },
  {
   "cell_type": "markdown",
   "id": "f5e2d5be-b9e0-424d-b844-951b8b9e04a2",
   "metadata": {},
   "source": [
    "## Bag of N-grams\n",
    "Bag of N-grams(BoN)はテキストを連続するn個の単語に分割することでフレーズや語順を考慮したテキスト表現を作成する方法である. BoNは同じnグラムを含む文書に対する類似性を捉えることができる一方で, nが増加するとスパース性が急速に増加する, OOVが処理できないという問題がある."
   ]
  },
  {
   "cell_type": "code",
   "execution_count": 13,
   "id": "0715b362-d691-4afd-9d95-93b283beef06",
   "metadata": {},
   "outputs": [
    {
     "name": "stdout",
     "output_type": "stream",
     "text": [
      "{'dog': 3, 'bites': 0, 'man': 12, 'dog bites': 4, 'bites man': 2, 'dog bites man': 5, 'man bites': 13, 'bites dog': 1, 'man bites dog': 14, 'eats': 8, 'meat': 17, 'dog eats': 6, 'eats meat': 10, 'dog eats meat': 7, 'food': 11, 'man eats': 15, 'eats food': 9, 'man eats food': 16}\n"
     ]
    }
   ],
   "source": [
    "# n=1,2,3のときのBoN\n",
    "count_vect = CountVectorizer(ngram_range=(1,3))\n",
    "\n",
    "bow_rep = count_vect.fit_transform(processed_docs)\n",
    "# 語彙を表示\n",
    "print(count_vect.vocabulary_)\n"
   ]
  },
  {
   "cell_type": "code",
   "execution_count": 15,
   "id": "37f1fb69-4c97-4030-942b-c67efda6b06a",
   "metadata": {},
   "outputs": [
    {
     "name": "stdout",
     "output_type": "stream",
     "text": [
      "dog bites man\n",
      "[[1 0 1 1 1 1 0 0 0 0 0 0 1 0 0 0 0 0]]\n",
      "man bites dog\n",
      "[[1 1 0 1 0 0 0 0 0 0 0 0 1 1 1 0 0 0]]\n",
      "dog eats meat\n",
      "[[0 0 0 1 0 0 1 1 1 0 1 0 0 0 0 0 0 1]]\n",
      "man eats food\n",
      "[[0 0 0 0 0 0 0 0 1 1 0 1 1 0 0 1 1 0]]\n",
      "[[0 0 0 2 0 0 0 0 0 0 0 0 0 0 0 0 0 0]]\n"
     ]
    }
   ],
   "source": [
    "# 新しいテキストに対するBoW\n",
    "\n",
    "# Bowを表示\n",
    "for i in range(len(processed_docs)):\n",
    "    print(processed_docs[i])\n",
    "    print(bow_rep[i].toarray())\n",
    "\n",
    "temp = count_vect.transform([\"dog and dog are friends\"])\n",
    "print(temp.toarray())"
   ]
  },
  {
   "cell_type": "code",
   "execution_count": null,
   "id": "1e1cb3ff-f07c-414a-b58d-87e4c385e2c1",
   "metadata": {},
   "outputs": [],
   "source": []
  }
 ],
 "metadata": {
  "kernelspec": {
   "display_name": "Python 3 (ipykernel)",
   "language": "python",
   "name": "python3"
  },
  "language_info": {
   "codemirror_mode": {
    "name": "ipython",
    "version": 3
   },
   "file_extension": ".py",
   "mimetype": "text/x-python",
   "name": "python",
   "nbconvert_exporter": "python",
   "pygments_lexer": "ipython3",
   "version": "3.8.10"
  }
 },
 "nbformat": 4,
 "nbformat_minor": 5
}
