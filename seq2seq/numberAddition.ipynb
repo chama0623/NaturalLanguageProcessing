{
 "cells": [
  {
   "cell_type": "code",
   "execution_count": 1,
   "id": "ca847c72-54cd-4377-bdee-38adeb2d4129",
   "metadata": {},
   "outputs": [],
   "source": [
    "import numpy as np\n",
    "import matplotlib.pyplot as plt"
   ]
  },
  {
   "cell_type": "markdown",
   "id": "c38e2744-71a4-4993-b940-f7526f39fcdc",
   "metadata": {},
   "source": [
    "# Number Addition\n",
    "\n",
    "入力文字列\"123+456\"に対して文字列\"579\"を出力するEncoder-Decoderモデルを作成する.\n",
    "\n",
    "Reference : https://keras.io/examples/nlp/addition_rnn/"
   ]
  },
  {
   "cell_type": "code",
   "execution_count": 2,
   "id": "6c1207de-2c90-4db6-9c27-d385e664e154",
   "metadata": {},
   "outputs": [],
   "source": [
    "# train set size\n",
    "TRAINING_SIZE = 50000\n",
    "# 最大桁数\n",
    "DIGITS = 3\n",
    "# Reverseの有無\n",
    "REVERSE = True\n",
    "\n",
    "# 入力される文字列の最大長\n",
    "MAXLEN = DIGITS + 1 + DIGITS"
   ]
  },
  {
   "cell_type": "markdown",
   "id": "6803b331-bee0-479b-9333-dedbb06c729c",
   "metadata": {},
   "source": [
    "## データ生成\n"
   ]
  },
  {
   "cell_type": "code",
   "execution_count": 3,
   "id": "35014275-f25d-4959-a968-44ca25b5fd75",
   "metadata": {},
   "outputs": [],
   "source": [
    "# ベクトル化するためのクラス\n",
    "class CharacterTable:\n",
    "    def __init__(self, chars):\n",
    "        self.chars = sorted(set(chars))\n",
    "        self.char_indices = dict((c, i) for i,c in enumerate(self.chars))\n",
    "        self.indices_char = dict((i, c) for i,c in enumerate(self.chars))\n",
    "        \n",
    "    def encode(self, C, num_rows):\n",
    "        x = np.zeros((num_rows, len(self.chars)))\n",
    "        for i, c in enumerate(C):\n",
    "            x[i, self.char_indices[c]] = 1\n",
    "        return x\n",
    "    \n",
    "    def decode(self, x, calc_argmax=True):\n",
    "        if calc_argmax:\n",
    "            x = x.argmax(axis=-1)\n",
    "        return \"\".join(self.indices_char[x] for x in x)"
   ]
  },
  {
   "cell_type": "code",
   "execution_count": 4,
   "id": "3ba04b96-d355-4494-9fb4-1daf7b168f1d",
   "metadata": {},
   "outputs": [
    {
     "name": "stdout",
     "output_type": "stream",
     "text": [
      "Generating data...\n",
      "Total questions: 50000\n"
     ]
    }
   ],
   "source": [
    "chars = \"0123456789+ \"\n",
    "ctable = CharacterTable(chars) # インスタンス化\n",
    "\n",
    "questions = []\n",
    "expected = []\n",
    "seen = set()\n",
    "print(\"Generating data...\")\n",
    "while len(questions)<TRAINING_SIZE: # train size回反復\n",
    "    f = lambda: int(\n",
    "    \"\".join( # 空白文字列に足していく\n",
    "    np.random.choice(list(\"0123456789\")) # 1桁の数字を1文字選ぶ\n",
    "    for i in range(np.random.randint(1,DIGITS+1)) # 1～桁数回繰り返す\n",
    "    )\n",
    "    )\n",
    "    \n",
    "    a,b = f(),f() # a,b 2つの数字を無名関数fから取得\n",
    "    key = tuple(sorted((a,b)))\n",
    "    if key in seen: # 2数の組み合わせが既にseenに定義されているとき\n",
    "        continue\n",
    "    seen.add(key)\n",
    "    q = \"{}+{}\".format(a,b) # a+b文字列に変換\n",
    "    query = q + \" \" * (MAXLEN - len(q)) # パディング\n",
    "    ans = str(a + b) # 正解文字列\n",
    "    ans +=\" \" *(DIGITS+1-len(ans)) # パディング\n",
    "    if REVERSE: # Reverse処理\n",
    "        query = query[::-1]\n",
    "    questions.append(query)\n",
    "    expected.append(ans)\n",
    "print(\"Total questions:\",len(questions))"
   ]
  },
  {
   "cell_type": "code",
   "execution_count": 5,
   "id": "99e9253e-6dec-481d-a9cc-5a1bba81f54a",
   "metadata": {},
   "outputs": [
    {
     "data": {
      "text/plain": [
       "(['  9+937', '   88+7', '   7+23', '  36+21', ' 184+27'], 50000)"
      ]
     },
     "execution_count": 5,
     "metadata": {},
     "output_type": "execute_result"
    }
   ],
   "source": [
    "questions[:5],len(questions)"
   ]
  },
  {
   "cell_type": "code",
   "execution_count": 6,
   "id": "8fe953fd-e586-437a-823a-0b428da7acd6",
   "metadata": {},
   "outputs": [
    {
     "data": {
      "text/plain": [
       "(['748 ', '95  ', '39  ', '75  ', '553 '], 50000)"
      ]
     },
     "execution_count": 6,
     "metadata": {},
     "output_type": "execute_result"
    }
   ],
   "source": [
    "expected[:5],len(expected)"
   ]
  },
  {
   "cell_type": "markdown",
   "id": "c867fbe8-616e-49ea-9597-8627dcf6c2ca",
   "metadata": {},
   "source": [
    "# データをベクトル化する"
   ]
  },
  {
   "cell_type": "code",
   "execution_count": 7,
   "id": "00112ade-4e0f-4aa8-b411-66025feae269",
   "metadata": {},
   "outputs": [
    {
     "name": "stdout",
     "output_type": "stream",
     "text": [
      "Vectorization...\n",
      "Training Data:\n",
      "(45000, 7, 12)\n",
      "(45000, 4, 12)\n",
      "Validation Data:\n",
      "(5000, 7, 12)\n",
      "(5000, 4, 12)\n"
     ]
    }
   ],
   "source": [
    "print(\"Vectorization...\")\n",
    "x = np.zeros((len(questions),MAXLEN,len(chars)),dtype=np.bool_)\n",
    "y = np.zeros((len(questions),DIGITS+1,len(chars)),dtype=np.bool_)\n",
    "\n",
    "for i,sentence in enumerate(questions):\n",
    "    x[i] = ctable.encode(sentence,MAXLEN)\n",
    "for i,sentence in enumerate(expected):\n",
    "    y[i] = ctable.encode(sentence,DIGITS+1)\n",
    "    \n",
    "indices = np.arange(len(y))\n",
    "np.random.shuffle(indices)\n",
    "x=x[indices]\n",
    "y=y[indices]\n",
    "\n",
    "split_at = len(x) -len(x)//10\n",
    "(x_train,x_val) = x[:split_at],x[split_at:]\n",
    "(y_train,y_val) = y[:split_at],y[split_at:]\n",
    "\n",
    "print(\"Training Data:\")\n",
    "print(x_train.shape)\n",
    "print(y_train.shape)\n",
    "\n",
    "print(\"Validation Data:\")\n",
    "print(x_val.shape)\n",
    "print(y_val.shape)"
   ]
  },
  {
   "cell_type": "code",
   "execution_count": 8,
   "id": "dae86444-29dd-4f60-9164-9da7ccccba18",
   "metadata": {},
   "outputs": [
    {
     "data": {
      "text/plain": [
       "(array([[ True, False, False, False, False, False, False, False, False,\n",
       "         False, False, False],\n",
       "        [False, False, False, False,  True, False, False, False, False,\n",
       "         False, False, False],\n",
       "        [False, False, False, False, False, False, False, False, False,\n",
       "         False,  True, False],\n",
       "        [False, False, False,  True, False, False, False, False, False,\n",
       "         False, False, False],\n",
       "        [False,  True, False, False, False, False, False, False, False,\n",
       "         False, False, False],\n",
       "        [False, False, False, False, False,  True, False, False, False,\n",
       "         False, False, False],\n",
       "        [False, False, False, False, False,  True, False, False, False,\n",
       "         False, False, False]]),\n",
       " array([[False, False, False, False,  True, False, False, False, False,\n",
       "         False, False, False],\n",
       "        [False, False, False,  True, False, False, False, False, False,\n",
       "         False, False, False],\n",
       "        [False, False, False, False, False, False, False,  True, False,\n",
       "         False, False, False],\n",
       "        [ True, False, False, False, False, False, False, False, False,\n",
       "         False, False, False]]))"
      ]
     },
     "execution_count": 8,
     "metadata": {},
     "output_type": "execute_result"
    }
   ],
   "source": [
    "x_train[0],y_train[0]"
   ]
  },
  {
   "cell_type": "markdown",
   "id": "606564f9-0f40-4fc4-878d-afd179c26626",
   "metadata": {},
   "source": [
    "## Modeling"
   ]
  },
  {
   "cell_type": "code",
   "execution_count": 9,
   "id": "cbaa6b49-9b4e-4f0b-a65e-f8acc11a1add",
   "metadata": {},
   "outputs": [],
   "source": [
    "from tensorflow import keras\n",
    "from tensorflow.keras import layers"
   ]
  },
  {
   "cell_type": "code",
   "execution_count": 10,
   "id": "b5523465-b96d-448f-9fb8-c81ed6096457",
   "metadata": {},
   "outputs": [
    {
     "name": "stdout",
     "output_type": "stream",
     "text": [
      "Build model...\n"
     ]
    },
    {
     "name": "stderr",
     "output_type": "stream",
     "text": [
      "2022-03-24 21:11:31.540462: I tensorflow/stream_executor/cuda/cuda_gpu_executor.cc:922] could not open file to read NUMA node: /sys/bus/pci/devices/0000:0a:00.0/numa_node\n",
      "Your kernel may have been built without NUMA support.\n",
      "2022-03-24 21:11:31.555644: I tensorflow/stream_executor/cuda/cuda_gpu_executor.cc:922] could not open file to read NUMA node: /sys/bus/pci/devices/0000:0a:00.0/numa_node\n",
      "Your kernel may have been built without NUMA support.\n",
      "2022-03-24 21:11:31.555894: I tensorflow/stream_executor/cuda/cuda_gpu_executor.cc:922] could not open file to read NUMA node: /sys/bus/pci/devices/0000:0a:00.0/numa_node\n",
      "Your kernel may have been built without NUMA support.\n",
      "2022-03-24 21:11:31.557009: I tensorflow/core/platform/cpu_feature_guard.cc:151] This TensorFlow binary is optimized with oneAPI Deep Neural Network Library (oneDNN) to use the following CPU instructions in performance-critical operations:  AVX2 FMA\n",
      "To enable them in other operations, rebuild TensorFlow with the appropriate compiler flags.\n",
      "2022-03-24 21:11:31.557917: I tensorflow/stream_executor/cuda/cuda_gpu_executor.cc:922] could not open file to read NUMA node: /sys/bus/pci/devices/0000:0a:00.0/numa_node\n",
      "Your kernel may have been built without NUMA support.\n",
      "2022-03-24 21:11:31.558150: I tensorflow/stream_executor/cuda/cuda_gpu_executor.cc:922] could not open file to read NUMA node: /sys/bus/pci/devices/0000:0a:00.0/numa_node\n",
      "Your kernel may have been built without NUMA support.\n",
      "2022-03-24 21:11:31.558369: I tensorflow/stream_executor/cuda/cuda_gpu_executor.cc:922] could not open file to read NUMA node: /sys/bus/pci/devices/0000:0a:00.0/numa_node\n",
      "Your kernel may have been built without NUMA support.\n",
      "2022-03-24 21:11:32.147844: I tensorflow/stream_executor/cuda/cuda_gpu_executor.cc:922] could not open file to read NUMA node: /sys/bus/pci/devices/0000:0a:00.0/numa_node\n",
      "Your kernel may have been built without NUMA support.\n",
      "2022-03-24 21:11:32.148096: I tensorflow/stream_executor/cuda/cuda_gpu_executor.cc:922] could not open file to read NUMA node: /sys/bus/pci/devices/0000:0a:00.0/numa_node\n",
      "Your kernel may have been built without NUMA support.\n",
      "2022-03-24 21:11:32.148125: I tensorflow/core/common_runtime/gpu/gpu_device.cc:1609] Could not identify NUMA node of platform GPU id 0, defaulting to 0.  Your kernel may not have been built with NUMA support.\n",
      "2022-03-24 21:11:32.148330: I tensorflow/stream_executor/cuda/cuda_gpu_executor.cc:922] could not open file to read NUMA node: /sys/bus/pci/devices/0000:0a:00.0/numa_node\n",
      "Your kernel may have been built without NUMA support.\n",
      "2022-03-24 21:11:32.148378: I tensorflow/core/common_runtime/gpu/gpu_device.cc:1525] Created device /job:localhost/replica:0/task:0/device:GPU:0 with 3929 MB memory:  -> device: 0, name: NVIDIA GeForce RTX 2060, pci bus id: 0000:0a:00.0, compute capability: 7.5\n"
     ]
    },
    {
     "name": "stdout",
     "output_type": "stream",
     "text": [
      "complete\n"
     ]
    }
   ],
   "source": [
    "print(\"Build model...\")\n",
    "num_layers = 1\n",
    "\n",
    "model = keras.Sequential()\n",
    "model.add(layers.LSTM(128,input_shape=(MAXLEN,len(chars))))\n",
    "model.add(layers.RepeatVector(DIGITS+1))\n",
    "for _ in range(num_layers):\n",
    "    model.add(layers.LSTM(128,return_sequences=True))\n",
    "    \n",
    "model.add(layers.Dense(len(chars),activation=\"softmax\"))\n",
    "\n",
    "model.compile(loss=\"categorical_crossentropy\",optimizer=\"adam\",metrics=[\"accuracy\"])\n",
    "print(\"complete\")"
   ]
  },
  {
   "cell_type": "code",
   "execution_count": 11,
   "id": "d3d28b39-d160-4048-ad8f-990d81c6a53d",
   "metadata": {},
   "outputs": [
    {
     "data": {
      "image/png": "[encoded data removed]",
      "text/plain": [
       "<IPython.core.display.Image object>"
      ]
     },
     "execution_count": 11,
     "metadata": {},
     "output_type": "execute_result"
    }
   ],
   "source": [
    "# モデルを画像として出力\n",
    "from keras.utils.vis_utils import plot_model\n",
    "plot_model(model,show_shapes=True,to_file='model.png')"
   ]
  },
  {
   "cell_type": "code",
   "execution_count": 12,
   "id": "4913ae98-151d-4a36-b374-77be02bf0464",
   "metadata": {},
   "outputs": [
    {
     "name": "stderr",
     "output_type": "stream",
     "text": [
      "2022-03-24 20:42:59.455811: I tensorflow/stream_executor/cuda/cuda_dnn.cc:368] Loaded cuDNN version 8204\n"
     ]
    },
    {
     "name": "stdout",
     "output_type": "stream",
     "text": [
      "3750/3750 [==============================] - 28s 7ms/step - loss: 1.6310 - accuracy: 0.3966 - val_loss: 1.3048 - val_accuracy: 0.5059\n",
      "Q 551  T 551  × 555 \n",
      "Q 867  T 867  × 862 \n",
      "Q 138  T 138  × 136 \n",
      "Q 454  T 454  × 457 \n",
      "Q 734  T 734  × 712 \n",
      "Q 157  T 157  × 150 \n",
      "Q 79   T 79   × 80  \n",
      "Q 1018 T 1018 × 101 \n",
      "Q 402  T 402  × 487 \n",
      "Q 138  T 138  × 110 \n",
      "3750/3750 [==============================] - 25s 7ms/step - loss: 1.1934 - accuracy: 0.5472 - val_loss: 1.0594 - val_accuracy: 0.5957\n",
      "Q 401  T 401  × 397 \n",
      "Q 1137 T 1137 × 1119\n",
      "Q 1455 T 1455 × 1481\n",
      "Q 501  T 501  × 493 \n",
      "Q 1119 T 1119 × 1117\n",
      "Q 562  T 562  × 587 \n",
      "Q 429  T 429  × 413 \n",
      "Q 343  T 343  × 357 \n",
      "Q 386  T 386  × 377 \n",
      "Q 1353 T 1353 × 1309\n",
      "3750/3750 [==============================] - 25s 7ms/step - loss: 0.9719 - accuracy: 0.6291 - val_loss: 0.9018 - val_accuracy: 0.6582\n",
      "Q 835  T 835  〇 835 \n",
      "Q 632  T 632  〇 632 \n",
      "Q 855  T 855  × 847 \n",
      "Q 159  T 159  × 157 \n",
      "Q 832  T 832  × 821 \n",
      "Q 1786 T 1786 × 1715\n",
      "Q 316  T 316  × 312 \n",
      "Q 420  T 420  × 412 \n",
      "Q 819  T 819  × 815 \n",
      "Q 1138 T 1138 × 1152\n",
      "3750/3750 [==============================] - 25s 7ms/step - loss: 0.8552 - accuracy: 0.6752 - val_loss: 0.8142 - val_accuracy: 0.6873\n",
      "Q 382  T 382  × 381 \n",
      "Q 900  T 900  × 908 \n",
      "Q 818  T 818  × 811 \n",
      "Q 123  T 123  × 124 \n",
      "Q 752  T 752  〇 752 \n",
      "Q 186  T 186  × 193 \n",
      "Q 913  T 913  × 918 \n",
      "Q 656  T 656  × 658 \n",
      "Q 846  T 846  〇 846 \n",
      "Q 1724 T 1724 × 1715\n",
      "3750/3750 [==============================] - 25s 7ms/step - loss: 0.7476 - accuracy: 0.7151 - val_loss: 0.6734 - val_accuracy: 0.7451\n",
      "Q 28   T 28   × 29  \n",
      "Q 133  T 133  〇 133 \n",
      "Q 132  T 132  × 131 \n",
      "Q 885  T 885  × 874 \n",
      "Q 116  T 116  × 115 \n",
      "Q 693  T 693  × 692 \n",
      "Q 1667 T 1667 × 1669\n",
      "Q 892  T 892  × 893 \n",
      "Q 78   T 78   〇 78  \n",
      "Q 706  T 706  〇 706 \n",
      "3750/3750 [==============================] - 25s 7ms/step - loss: 0.5329 - accuracy: 0.8005 - val_loss: 0.4159 - val_accuracy: 0.8500\n",
      "Q 971  T 971  〇 971 \n",
      "Q 773  T 773  〇 773 \n",
      "Q 449  T 449  〇 449 \n",
      "Q 240  T 240  × 230 \n",
      "Q 316  T 316  × 327 \n",
      "Q 599  T 599  × 699 \n",
      "Q 275  T 275  〇 275 \n",
      "Q 734  T 734  × 743 \n",
      "Q 585  T 585  〇 585 \n",
      "Q 487  T 487  × 488 \n",
      "3750/3750 [==============================] - 25s 7ms/step - loss: 0.3381 - accuracy: 0.8831 - val_loss: 0.2799 - val_accuracy: 0.9025\n",
      "Q 1052 T 1052 × 1051\n",
      "Q 213  T 213  × 212 \n",
      "Q 1043 T 1043 〇 1043\n",
      "Q 308  T 308  〇 308 \n",
      "Q 374  T 374  〇 374 \n",
      "Q 328  T 328  × 327 \n",
      "Q 914  T 914  〇 914 \n",
      "Q 1013 T 1013 × 1002\n",
      "Q 693  T 693  〇 693 \n",
      "Q 1167 T 1167 × 1168\n",
      "3750/3750 [==============================] - 25s 7ms/step - loss: 0.2242 - accuracy: 0.9273 - val_loss: 0.1960 - val_accuracy: 0.9344\n",
      "Q 139  T 139  〇 139 \n",
      "Q 688  T 688  × 787 \n",
      "Q 752  T 752  × 751 \n",
      "Q 776  T 776  〇 776 \n",
      "Q 285  T 285  〇 285 \n",
      "Q 752  T 752  〇 752 \n",
      "Q 60   T 60   〇 60  \n",
      "Q 1006 T 1006 × 907 \n",
      "Q 1032 T 1032 〇 1032\n",
      "Q 840  T 840  × 830 \n",
      "3750/3750 [==============================] - 25s 7ms/step - loss: 0.1645 - accuracy: 0.9487 - val_loss: 0.1559 - val_accuracy: 0.9515\n",
      "Q 739  T 739  〇 739 \n",
      "Q 278  T 278  〇 278 \n",
      "Q 440  T 440  〇 440 \n",
      "Q 1804 T 1804 × 1704\n",
      "Q 1357 T 1357 〇 1357\n",
      "Q 951  T 951  × 952 \n",
      "Q 297  T 297  〇 297 \n",
      "Q 643  T 643  〇 643 \n",
      "Q 127  T 127  〇 127 \n",
      "Q 812  T 812  〇 812 \n",
      "3750/3750 [==============================] - 25s 7ms/step - loss: 0.1211 - accuracy: 0.9640 - val_loss: 0.1296 - val_accuracy: 0.9577\n",
      "Q 704  T 704  〇 704 \n",
      "Q 452  T 452  〇 452 \n",
      "Q 208  T 208  〇 208 \n",
      "Q 550  T 550  〇 550 \n",
      "Q 897  T 897  〇 897 \n",
      "Q 1505 T 1505 〇 1505\n",
      "Q 188  T 188  〇 188 \n",
      "Q 1026 T 1026 〇 1026\n",
      "Q 1057 T 1057 〇 1057\n",
      "Q 1051 T 1051 〇 1051\n",
      "3750/3750 [==============================] - 25s 7ms/step - loss: 0.1033 - accuracy: 0.9695 - val_loss: 0.0793 - val_accuracy: 0.9772\n",
      "Q 645  T 645  〇 645 \n",
      "Q 720  T 720  〇 720 \n",
      "Q 764  T 764  〇 764 \n",
      "Q 1305 T 1305 〇 1305\n",
      "Q 393  T 393  〇 393 \n",
      "Q 62   T 62   〇 62  \n",
      "Q 1509 T 1509 〇 1509\n",
      "Q 537  T 537  〇 537 \n",
      "Q 1196 T 1196 〇 1196\n",
      "Q 560  T 560  〇 560 \n",
      "3750/3750 [==============================] - 25s 7ms/step - loss: 0.0851 - accuracy: 0.9746 - val_loss: 0.0774 - val_accuracy: 0.9752\n",
      "Q 1280 T 1280 〇 1280\n",
      "Q 312  T 312  × 311 \n",
      "Q 1093 T 1093 〇 1093\n",
      "Q 180  T 180  〇 180 \n",
      "Q 975  T 975  〇 975 \n",
      "Q 226  T 226  〇 226 \n",
      "Q 501  T 501  〇 501 \n",
      "Q 53   T 53   〇 53  \n",
      "Q 555  T 555  〇 555 \n",
      "Q 49   T 49   〇 49  \n",
      "3750/3750 [==============================] - 30s 8ms/step - loss: 0.0743 - accuracy: 0.9783 - val_loss: 0.0969 - val_accuracy: 0.9704\n",
      "Q 1446 T 1446 〇 1446\n",
      "Q 906  T 906  × 896 \n",
      "Q 350  T 350  × 340 \n",
      "Q 679  T 679  〇 679 \n",
      "Q 313  T 313  〇 313 \n",
      "Q 1032 T 1032 〇 1032\n",
      "Q 581  T 581  〇 581 \n",
      "Q 658  T 658  〇 658 \n",
      "Q 140  T 140  〇 140 \n",
      "Q 488  T 488  〇 488 \n",
      "3750/3750 [==============================] - 28s 7ms/step - loss: 0.0633 - accuracy: 0.9815 - val_loss: 0.0735 - val_accuracy: 0.9784\n",
      "Q 400  T 400  〇 400 \n",
      "Q 458  T 458  〇 458 \n",
      "Q 83   T 83   〇 83  \n",
      "Q 245  T 245  〇 245 \n",
      "Q 683  T 683  〇 683 \n",
      "Q 366  T 366  〇 366 \n",
      "Q 1000 T 1000 〇 1000\n",
      "Q 478  T 478  〇 478 \n",
      "Q 551  T 551  〇 551 \n",
      "Q 966  T 966  〇 966 \n",
      "3750/3750 [==============================] - 25s 7ms/step - loss: 0.0564 - accuracy: 0.9843 - val_loss: 0.0526 - val_accuracy: 0.9845\n",
      "Q 765  T 765  〇 765 \n",
      "Q 44   T 44   〇 44  \n",
      "Q 26   T 26   〇 26  \n",
      "Q 211  T 211  〇 211 \n",
      "Q 1077 T 1077 〇 1077\n",
      "Q 706  T 706  〇 706 \n",
      "Q 721  T 721  〇 721 \n",
      "Q 167  T 167  〇 167 \n",
      "Q 109  T 109  〇 109 \n",
      "Q 674  T 674  〇 674 \n",
      "3750/3750 [==============================] - 27s 7ms/step - loss: 0.0522 - accuracy: 0.9843 - val_loss: 0.0506 - val_accuracy: 0.9833\n",
      "Q 453  T 453  〇 453 \n",
      "Q 377  T 377  〇 377 \n",
      "Q 77   T 77   〇 77  \n",
      "Q 1519 T 1519 × 1529\n",
      "Q 147  T 147  〇 147 \n",
      "Q 171  T 171  〇 171 \n",
      "Q 1145 T 1145 〇 1145\n",
      "Q 824  T 824  〇 824 \n",
      "Q 185  T 185  〇 185 \n",
      "Q 962  T 962  〇 962 \n",
      "3750/3750 [==============================] - 27s 7ms/step - loss: 0.0476 - accuracy: 0.9860 - val_loss: 0.0464 - val_accuracy: 0.9840\n",
      "Q 709  T 709  〇 709 \n",
      "Q 243  T 243  × 233 \n",
      "Q 371  T 371  〇 371 \n",
      "Q 128  T 128  〇 128 \n",
      "Q 241  T 241  〇 241 \n",
      "Q 616  T 616  〇 616 \n",
      "Q 846  T 846  〇 846 \n",
      "Q 612  T 612  〇 612 \n",
      "Q 1092 T 1092 〇 1092\n",
      "Q 1505 T 1505 〇 1505\n",
      "3750/3750 [==============================] - 25s 7ms/step - loss: 0.0448 - accuracy: 0.9869 - val_loss: 0.0481 - val_accuracy: 0.9840\n",
      "Q 509  T 509  〇 509 \n",
      "Q 207  T 207  〇 207 \n",
      "Q 953  T 953  〇 953 \n",
      "Q 1606 T 1606 〇 1606\n",
      "Q 786  T 786  〇 786 \n",
      "Q 131  T 131  〇 131 \n",
      "Q 373  T 373  〇 373 \n",
      "Q 1576 T 1576 〇 1576\n",
      "Q 971  T 971  〇 971 \n",
      "Q 1401 T 1401 〇 1401\n",
      "3750/3750 [==============================] - 25s 7ms/step - loss: 0.0398 - accuracy: 0.9883 - val_loss: 0.0363 - val_accuracy: 0.9894\n",
      "Q 232  T 232  〇 232 \n",
      "Q 926  T 926  〇 926 \n",
      "Q 262  T 262  〇 262 \n",
      "Q 222  T 222  〇 222 \n",
      "Q 844  T 844  〇 844 \n",
      "Q 44   T 44   〇 44  \n",
      "Q 748  T 748  〇 748 \n",
      "Q 621  T 621  〇 621 \n",
      "Q 1566 T 1566 〇 1566\n",
      "Q 978  T 978  〇 978 \n",
      "3750/3750 [==============================] - 29s 8ms/step - loss: 0.0368 - accuracy: 0.9890 - val_loss: 0.0383 - val_accuracy: 0.9898\n",
      "Q 580  T 580  〇 580 \n",
      "Q 1108 T 1108 〇 1108\n",
      "Q 700  T 700  × 600 \n",
      "Q 656  T 656  〇 656 \n",
      "Q 521  T 521  〇 521 \n",
      "Q 319  T 319  〇 319 \n",
      "Q 1122 T 1122 〇 1122\n",
      "Q 463  T 463  〇 463 \n",
      "Q 168  T 168  〇 168 \n",
      "Q 1736 T 1736 〇 1736\n",
      "3750/3750 [==============================] - 30s 8ms/step - loss: 0.0350 - accuracy: 0.9896 - val_loss: 0.0237 - val_accuracy: 0.9936\n",
      "Q 707  T 707  〇 707 \n",
      "Q 1497 T 1497 〇 1497\n",
      "Q 354  T 354  〇 354 \n",
      "Q 565  T 565  〇 565 \n",
      "Q 850  T 850  〇 850 \n",
      "Q 735  T 735  〇 735 \n",
      "Q 401  T 401  〇 401 \n",
      "Q 1145 T 1145 〇 1145\n",
      "Q 873  T 873  〇 873 \n",
      "Q 1000 T 1000 × 990 \n",
      "3750/3750 [==============================] - 28s 8ms/step - loss: 0.0384 - accuracy: 0.9891 - val_loss: 0.0348 - val_accuracy: 0.9888\n",
      "Q 410  T 410  〇 410 \n",
      "Q 808  T 808  〇 808 \n",
      "Q 1206 T 1206 〇 1206\n",
      "Q 801  T 801  〇 801 \n",
      "Q 938  T 938  〇 938 \n",
      "Q 1256 T 1256 〇 1256\n",
      "Q 1517 T 1517 〇 1517\n",
      "Q 1856 T 1856 〇 1856\n",
      "Q 704  T 704  〇 704 \n",
      "Q 406  T 406  〇 406 \n",
      "3750/3750 [==============================] - 27s 7ms/step - loss: 0.0269 - accuracy: 0.9920 - val_loss: 0.0353 - val_accuracy: 0.9888\n",
      "Q 528  T 528  〇 528 \n",
      "Q 579  T 579  〇 579 \n",
      "Q 214  T 214  〇 214 \n",
      "Q 286  T 286  〇 286 \n",
      "Q 800  T 800  〇 800 \n",
      "Q 482  T 482  〇 482 \n",
      "Q 925  T 925  〇 925 \n",
      "Q 310  T 310  〇 310 \n",
      "Q 752  T 752  〇 752 \n",
      "Q 991  T 991  〇 991 \n",
      "3750/3750 [==============================] - 28s 7ms/step - loss: 0.0327 - accuracy: 0.9905 - val_loss: 0.0295 - val_accuracy: 0.9912\n",
      "Q 240  T 240  〇 240 \n",
      "Q 106  T 106  〇 106 \n",
      "Q 729  T 729  〇 729 \n",
      "Q 663  T 663  〇 663 \n",
      "Q 956  T 956  〇 956 \n",
      "Q 514  T 514  〇 514 \n",
      "Q 579  T 579  〇 579 \n",
      "Q 891  T 891  〇 891 \n",
      "Q 848  T 848  〇 848 \n",
      "Q 819  T 819  〇 819 \n",
      "3750/3750 [==============================] - 29s 8ms/step - loss: 0.0325 - accuracy: 0.9906 - val_loss: 0.0266 - val_accuracy: 0.9908\n",
      "Q 192  T 192  〇 192 \n",
      "Q 1011 T 1011 〇 1011\n",
      "Q 105  T 105  〇 105 \n",
      "Q 1139 T 1139 〇 1139\n",
      "Q 160  T 160  〇 160 \n",
      "Q 617  T 617  〇 617 \n",
      "Q 1815 T 1815 〇 1815\n",
      "Q 596  T 596  〇 596 \n",
      "Q 250  T 250  〇 250 \n",
      "Q 885  T 885  〇 885 \n",
      "3750/3750 [==============================] - 28s 7ms/step - loss: 0.0234 - accuracy: 0.9933 - val_loss: 0.0580 - val_accuracy: 0.9803\n",
      "Q 1598 T 1598 〇 1598\n",
      "Q 958  T 958  × 948 \n",
      "Q 831  T 831  〇 831 \n",
      "Q 169  T 169  〇 169 \n",
      "Q 444  T 444  〇 444 \n",
      "Q 247  T 247  〇 247 \n",
      "Q 699  T 699  〇 699 \n",
      "Q 1062 T 1062 〇 1062\n",
      "Q 894  T 894  × 884 \n",
      "Q 316  T 316  〇 316 \n",
      "3750/3750 [==============================] - 27s 7ms/step - loss: 0.0291 - accuracy: 0.9919 - val_loss: 0.1435 - val_accuracy: 0.9589\n",
      "Q 782  T 782  〇 782 \n",
      "Q 709  T 709  〇 709 \n",
      "Q 295  T 295  〇 295 \n",
      "Q 1081 T 1081 〇 1081\n",
      "Q 462  T 462  × 463 \n",
      "Q 668  T 668  〇 668 \n",
      "Q 990  T 990  〇 990 \n",
      "Q 690  T 690  〇 690 \n",
      "Q 846  T 846  〇 846 \n",
      "Q 792  T 792  〇 792 \n",
      "3750/3750 [==============================] - 29s 8ms/step - loss: 0.0259 - accuracy: 0.9926 - val_loss: 0.0614 - val_accuracy: 0.9833\n",
      "Q 1012 T 1012 〇 1012\n",
      "Q 1054 T 1054 〇 1054\n",
      "Q 755  T 755  〇 755 \n",
      "Q 612  T 612  〇 612 \n",
      "Q 661  T 661  〇 661 \n",
      "Q 1105 T 1105 〇 1105\n",
      "Q 537  T 537  〇 537 \n",
      "Q 831  T 831  〇 831 \n",
      "Q 711  T 711  〇 711 \n",
      "Q 782  T 782  〇 782 \n",
      "3750/3750 [==============================] - 29s 8ms/step - loss: 0.0194 - accuracy: 0.9941 - val_loss: 0.0431 - val_accuracy: 0.9866\n",
      "Q 965  T 965  〇 965 \n",
      "Q 1077 T 1077 〇 1077\n",
      "Q 863  T 863  〇 863 \n",
      "Q 35   T 35   〇 35  \n",
      "Q 153  T 153  〇 153 \n",
      "Q 758  T 758  〇 758 \n",
      "Q 451  T 451  〇 451 \n",
      "Q 948  T 948  〇 948 \n",
      "Q 199  T 199  × 209 \n",
      "Q 871  T 871  〇 871 \n"
     ]
    }
   ],
   "source": [
    "# Reverseなしの場合\n",
    "# 学習の途中でvalidationを表示する\n",
    "epochs = 30\n",
    "batch_size = 12\n",
    "\n",
    "for epoch in range(1,epochs): # 1epoch毎にvalからランダムに抜き出して精度を確認\n",
    "    history = model.fit(x_train,y_train,batch_size=batch_size,epochs=1,\n",
    "                       validation_data=(x_val,y_val),)\n",
    "\n",
    "    for i in range(10):\n",
    "        ind = np.random.randint(0,len(x_val))\n",
    "        rowx,rowy = x_val[np.array([ind])],y_val[np.array([ind])]\n",
    "        preds = np.argmax(model.predict(rowx),axis=-1)\n",
    "        q = ctable.decode(rowy[0])\n",
    "        correct = ctable.decode(rowy[0])\n",
    "        guess = ctable.decode(preds[0],calc_argmax=False)\n",
    "        print(\"Q\", q[::-1] if REVERSE else q, end=\" \")\n",
    "        print(\"T\", correct, end=\" \")\n",
    "        if correct == guess:\n",
    "            print(\"〇 \" + guess)\n",
    "        else:\n",
    "            print(\"× \" + guess)"
   ]
  },
  {
   "cell_type": "code",
   "execution_count": 12,
   "id": "f8e968eb-f0af-4296-8e13-7334d6d62eef",
   "metadata": {},
   "outputs": [
    {
     "name": "stdout",
     "output_type": "stream",
     "text": [
      "Epoch 1/30\n"
     ]
    },
    {
     "name": "stderr",
     "output_type": "stream",
     "text": [
      "2022-03-24 21:11:36.104752: I tensorflow/stream_executor/cuda/cuda_dnn.cc:368] Loaded cuDNN version 8204\n"
     ]
    },
    {
     "name": "stdout",
     "output_type": "stream",
     "text": [
      "3750/3750 [==============================] - 30s 7ms/step - loss: 1.5917 - accuracy: 0.4139 - val_loss: 1.2149 - val_accuracy: 0.5451\n",
      "Epoch 2/30\n",
      "3750/3750 [==============================] - 25s 7ms/step - loss: 1.0342 - accuracy: 0.6082 - val_loss: 0.8848 - val_accuracy: 0.6644\n",
      "Epoch 3/30\n",
      "3750/3750 [==============================] - 24s 7ms/step - loss: 0.8171 - accuracy: 0.6898 - val_loss: 0.7419 - val_accuracy: 0.7211\n",
      "Epoch 4/30\n",
      "3750/3750 [==============================] - 25s 7ms/step - loss: 0.6568 - accuracy: 0.7546 - val_loss: 0.4663 - val_accuracy: 0.8274\n",
      "Epoch 5/30\n",
      "3750/3750 [==============================] - 26s 7ms/step - loss: 0.3148 - accuracy: 0.8943 - val_loss: 0.1895 - val_accuracy: 0.9510\n",
      "Epoch 6/30\n",
      "3750/3750 [==============================] - 24s 6ms/step - loss: 0.1577 - accuracy: 0.9555 - val_loss: 0.1149 - val_accuracy: 0.9684\n",
      "Epoch 7/30\n",
      "3750/3750 [==============================] - 24s 6ms/step - loss: 0.1032 - accuracy: 0.9707 - val_loss: 0.0710 - val_accuracy: 0.9819\n",
      "Epoch 8/30\n",
      "3750/3750 [==============================] - 25s 7ms/step - loss: 0.0725 - accuracy: 0.9800 - val_loss: 0.1165 - val_accuracy: 0.9584\n",
      "Epoch 9/30\n",
      "3750/3750 [==============================] - 26s 7ms/step - loss: 0.0580 - accuracy: 0.9835 - val_loss: 0.1643 - val_accuracy: 0.9504\n",
      "Epoch 10/30\n",
      "3750/3750 [==============================] - 24s 6ms/step - loss: 0.0522 - accuracy: 0.9852 - val_loss: 0.0331 - val_accuracy: 0.9911\n",
      "Epoch 11/30\n",
      "3750/3750 [==============================] - 24s 6ms/step - loss: 0.0430 - accuracy: 0.9879 - val_loss: 0.0365 - val_accuracy: 0.9890\n",
      "Epoch 12/30\n",
      "3750/3750 [==============================] - 24s 6ms/step - loss: 0.0413 - accuracy: 0.9882 - val_loss: 0.0157 - val_accuracy: 0.9968\n",
      "Epoch 13/30\n",
      "3750/3750 [==============================] - 24s 6ms/step - loss: 0.0361 - accuracy: 0.9900 - val_loss: 0.0278 - val_accuracy: 0.9912\n",
      "Epoch 14/30\n",
      "3750/3750 [==============================] - 25s 7ms/step - loss: 0.0290 - accuracy: 0.9918 - val_loss: 0.0138 - val_accuracy: 0.9970\n",
      "Epoch 15/30\n",
      "3750/3750 [==============================] - 24s 6ms/step - loss: 0.0291 - accuracy: 0.9918 - val_loss: 0.0113 - val_accuracy: 0.9973\n",
      "Epoch 16/30\n",
      "3750/3750 [==============================] - 25s 7ms/step - loss: 0.0282 - accuracy: 0.9920 - val_loss: 0.0322 - val_accuracy: 0.9896\n",
      "Epoch 17/30\n",
      "3750/3750 [==============================] - 25s 7ms/step - loss: 0.0201 - accuracy: 0.9944 - val_loss: 0.0174 - val_accuracy: 0.9951\n",
      "Epoch 18/30\n",
      "3750/3750 [==============================] - 26s 7ms/step - loss: 0.0250 - accuracy: 0.9932 - val_loss: 0.0282 - val_accuracy: 0.9906\n",
      "Epoch 19/30\n",
      "3750/3750 [==============================] - 27s 7ms/step - loss: 0.0249 - accuracy: 0.9929 - val_loss: 0.0160 - val_accuracy: 0.9955\n",
      "Epoch 20/30\n",
      "3750/3750 [==============================] - 27s 7ms/step - loss: 0.0212 - accuracy: 0.9942 - val_loss: 0.0180 - val_accuracy: 0.9945\n",
      "Epoch 21/30\n",
      "3750/3750 [==============================] - 26s 7ms/step - loss: 0.0176 - accuracy: 0.9953 - val_loss: 0.0055 - val_accuracy: 0.9991\n",
      "Epoch 22/30\n",
      "3750/3750 [==============================] - 24s 6ms/step - loss: 0.0211 - accuracy: 0.9942 - val_loss: 0.0103 - val_accuracy: 0.9974\n",
      "Epoch 23/30\n",
      "3750/3750 [==============================] - 24s 6ms/step - loss: 0.0150 - accuracy: 0.9960 - val_loss: 0.0222 - val_accuracy: 0.9924\n",
      "Epoch 24/30\n",
      "3750/3750 [==============================] - 24s 6ms/step - loss: 0.0158 - accuracy: 0.9955 - val_loss: 0.0176 - val_accuracy: 0.9948\n",
      "Epoch 25/30\n",
      "3750/3750 [==============================] - 24s 6ms/step - loss: 0.0170 - accuracy: 0.9954 - val_loss: 0.0129 - val_accuracy: 0.9964\n",
      "Epoch 26/30\n",
      "3750/3750 [==============================] - 25s 7ms/step - loss: 0.0126 - accuracy: 0.9965 - val_loss: 0.0142 - val_accuracy: 0.9948\n",
      "Epoch 27/30\n",
      "3750/3750 [==============================] - 27s 7ms/step - loss: 0.0168 - accuracy: 0.9954 - val_loss: 0.0080 - val_accuracy: 0.9974\n",
      "Epoch 28/30\n",
      "3750/3750 [==============================] - 27s 7ms/step - loss: 0.0102 - accuracy: 0.9970 - val_loss: 0.0098 - val_accuracy: 0.9966\n",
      "Epoch 29/30\n",
      "3750/3750 [==============================] - 25s 7ms/step - loss: 0.0146 - accuracy: 0.9961 - val_loss: 0.0057 - val_accuracy: 0.9986\n",
      "Epoch 30/30\n",
      "3750/3750 [==============================] - 24s 6ms/step - loss: 0.0115 - accuracy: 0.9969 - val_loss: 0.0334 - val_accuracy: 0.9907\n"
     ]
    }
   ],
   "source": [
    "# Reverseありの場合\n",
    "# 学習の途中でvalidationを表示しない\n",
    "epochs = 30\n",
    "batch_size = 12\n",
    "\n",
    "history = model.fit(x_train,y_train,batch_size=batch_size,epochs=epochs,\n",
    "                    validation_data=(x_val,y_val),)"
   ]
  },
  {
   "cell_type": "code",
   "execution_count": 18,
   "id": "5732edbe-b5df-42c0-98fa-642e28e7755b",
   "metadata": {},
   "outputs": [],
   "source": [
    "def plot_loss(history):\n",
    "    \"\"\"エポックごとの損失関数をプロットする関数\n",
    "    \n",
    "    Args:\n",
    "    history : fittingの履歴\n",
    "    \n",
    "    Returns:\n",
    "    None\n",
    "    \"\"\"\n",
    "    # 損失関数の履歴を取得\n",
    "    loss_train = history.history[\"loss\"]\n",
    "    loss_val = history.history[\"val_loss\"]\n",
    "\n",
    "    # 損失関数をプロット\n",
    "    epochs=range(1,len(history.history[\"loss\"])+1)\n",
    "    plt.figure(facecolor=\"white\")\n",
    "    plt.plot(epochs,loss_train,label=\"Training loss\")\n",
    "    plt.plot(epochs,loss_val,label=\"Validation loss\")\n",
    "    plt.legend()\n",
    "    plt.xlabel('Epochs')\n",
    "    plt.ylabel('Loss')\n",
    "    plt.savefig(\"loss.jpg\")\n",
    "    plt.show()\n",
    "    \n",
    "def plot_acc(history):\n",
    "    \"\"\"エポックごとの正解率をプロットする関数\n",
    "    \n",
    "    Args:\n",
    "    history : fittingの履歴\n",
    "    \n",
    "    Returns:\n",
    "    None\n",
    "    \"\"\"\n",
    "    acc_train = history.history['accuracy']\n",
    "    acc_val = history.history['val_accuracy']\n",
    "    epochs = range(1,len(history.history[\"accuracy\"])+1)\n",
    "    plt.figure(facecolor=\"white\")\n",
    "    plt.plot(epochs, acc_train, 'g', label='Training accuracy')\n",
    "    plt.plot(epochs, acc_val, 'b', label='Validation accuracy')\n",
    "    plt.legend()\n",
    "    plt.xlabel('Epochs')\n",
    "    plt.ylabel('Accuracy')\n",
    "    plt.savefig(\"acc.jpg\")\n",
    "    plt.show()"
   ]
  },
  {
   "cell_type": "code",
   "execution_count": 19,
   "id": "c40b7df8-2913-413b-b5b9-4a328c42d696",
   "metadata": {},
   "outputs": [
    {
     "data": {
      "image/png": "[encoded data removed]",
      "text/plain": [
       "<Figure size 432x288 with 1 Axes>"
      ]
     },
     "metadata": {},
     "output_type": "display_data"
    }
   ],
   "source": [
    "# 損失関数の描画\n",
    "plot_loss(history)"
   ]
  },
  {
   "cell_type": "code",
   "execution_count": 20,
   "id": "57f9a217-7bf8-4003-8ae6-062e37b304b4",
   "metadata": {},
   "outputs": [
    {
     "data": {
      "image/png": "[encoded data removed]",
      "text/plain": [
       "<Figure size 432x288 with 1 Axes>"
      ]
     },
     "metadata": {},
     "output_type": "display_data"
    }
   ],
   "source": [
    "# 正解率を描画\n",
    "plot_acc(history)"
   ]
  },
  {
   "cell_type": "markdown",
   "id": "59b126bf-bf42-4de5-8078-4c45301e9ac3",
   "metadata": {},
   "source": [
    "## 推論例"
   ]
  },
  {
   "cell_type": "code",
   "execution_count": 14,
   "id": "a9889864-5da9-451d-94ea-ff11a9231294",
   "metadata": {},
   "outputs": [
    {
     "name": "stdout",
     "output_type": "stream",
     "text": [
      "predict : 579 \n",
      "correct : 579\n"
     ]
    }
   ],
   "source": [
    "# 好きな数字で推論\n",
    "a = \"123\"\n",
    "b = \"456\"\n",
    "q = a+\"+\"+b # a+b文字列に変換\n",
    "query = q + \" \" * (MAXLEN - len(q)) # パディング\n",
    "if REVERSE: # Reverse処理\n",
    "        query = query[::-1]\n",
    "x_new = ctable.encode(query,MAXLEN).astype(np.bool_)\n",
    "x_new = x_new.reshape(1,-1,12)\n",
    "pred = np.argmax(model.predict(x_new),axis=-1)\n",
    "print(\"predict :\",ctable.decode(pred[0],calc_argmax=False))\n",
    "print(\"correct :\",int(a)+int(b))"
   ]
  },
  {
   "cell_type": "code",
   "execution_count": null,
   "id": "15d2a852-39f0-4345-9259-d8ece647eaed",
   "metadata": {},
   "outputs": [],
   "source": []
  }
 ],
 "metadata": {
  "kernelspec": {
   "display_name": "Python 3 (ipykernel)",
   "language": "python",
   "name": "python3"
  },
  "language_info": {
   "codemirror_mode": {
    "name": "ipython",
    "version": 3
   },
   "file_extension": ".py",
   "mimetype": "text/x-python",
   "name": "python",
   "nbconvert_exporter": "python",
   "pygments_lexer": "ipython3",
   "version": "3.8.10"
  }
 },
 "nbformat": 4,
 "nbformat_minor": 5
}
