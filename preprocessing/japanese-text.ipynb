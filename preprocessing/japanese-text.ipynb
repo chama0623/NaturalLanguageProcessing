{
 "cells": [
  {
   "cell_type": "markdown",
   "id": "dd6675f4-ef4d-4b0c-b6c9-465179938b36",
   "metadata": {},
   "source": [
    "# 日本語テキストの前処理\n",
    "\n",
    "日本語テキストの前処理として次のようなステップでサンプルテキストsample_textの前処理を行う.\n",
    "1. 不要な文字列削除\n",
    "2. ルールに沿った文字列の変換\n",
    "3. 単語への分割\n",
    "\n",
    "Reference : https://note.com/narudesu/n/na35de30a583a"
   ]
  },
  {
   "cell_type": "code",
   "execution_count": 152,
   "id": "706dab10-d406-418e-99b1-f0b552852690",
   "metadata": {},
   "outputs": [],
   "source": [
    "sample_texts = [\"お友達の紹介で,女子2人で三時のティータイムに利用しました。\",\n",
    "               \"2人用のソファに並んでいただきますv(^^)vなかよし(笑)\",\n",
    "               \"最後に出された,モンブランのケーー－キ.\",\n",
    "               \"やばっっっ!!これはうまーい!!\",\n",
    "               \"とってもDeliciousで、サービスもGoodでした😀\",\n",
    "               \"これで2,500円はとってもお得です☆\",\n",
    "              \"皆さんにもおすすめです！\\n リンクはこちらから\",\n",
    "               \"https://ja.wikipedia.org/wiki/%E3%83%A1%E3%82%A4%E3%83%B3%E3%83%9A%E3%83%BC%E3%82%B8\",\n",
    "               \"おとなりのcookie-shopもおいしそうでした(ニコニコ)!\"]"
   ]
  },
  {
   "cell_type": "markdown",
   "id": "0ed0273a-d458-42a5-b80a-18d2852c37f4",
   "metadata": {},
   "source": [
    "## 不要な単語の削除\n",
    "\n",
    "### 改行コードの削除\n",
    "改行コードCR(\\r), LF(\\n), CR+LF(\\r\\n)の削除する."
   ]
  },
  {
   "cell_type": "code",
   "execution_count": 153,
   "id": "fd6d4b53-ded5-478a-88d2-491e30130a00",
   "metadata": {},
   "outputs": [
    {
     "name": "stdout",
     "output_type": "stream",
     "text": [
      "['お友達の紹介で,女子2人で三時のティータイムに利用しました。', '2人用のソファに並んでいただきますv(^^)vなかよし(笑)', '最後に出された,モンブランのケーー－キ.', 'やばっっっ!!これはうまーい!!', 'とってもDeliciousで、サービスもGoodでした😀', 'これで2,500円はとってもお得です☆', '皆さんにもおすすめです！ リンクはこちらから', 'https://ja.wikipedia.org/wiki/%E3%83%A1%E3%82%A4%E3%83%B3%E3%83%9A%E3%83%BC%E3%82%B8', 'おとなりのcookie-shopもおいしそうでした(ニコニコ)!']\n"
     ]
    }
   ],
   "source": [
    "for i,text in enumerate(sample_texts):\n",
    "    sample_texts[i] = text.replace(\"\\n\",\"\").replace(\"\\r\",\"\")\n",
    "print(sample_texts)"
   ]
  },
  {
   "cell_type": "markdown",
   "id": "a92d0767-0c5a-4482-bd8d-590262732da8",
   "metadata": {},
   "source": [
    "### URLの削除\n",
    "正規表現を用いてURLの削除を行う."
   ]
  },
  {
   "cell_type": "code",
   "execution_count": 154,
   "id": "f2461254-02c4-4acd-a6a6-c6a6715fed32",
   "metadata": {},
   "outputs": [
    {
     "name": "stdout",
     "output_type": "stream",
     "text": [
      "['お友達の紹介で,女子2人で三時のティータイムに利用しました。', '2人用のソファに並んでいただきますv(^^)vなかよし(笑)', '最後に出された,モンブランのケーー－キ.', 'やばっっっ!!これはうまーい!!', 'とってもDeliciousで、サービスもGoodでした😀', 'これで2,500円はとってもお得です☆', '皆さんにもおすすめです！ リンクはこちらから', '', 'おとなりのcookie-shopもおいしそうでした(ニコニコ)!']\n"
     ]
    }
   ],
   "source": [
    "import re\n",
    "\n",
    "for i,text in enumerate(sample_texts):\n",
    "    text = re.sub(r'http?://[\\w/:%#\\$&\\?\\(\\)~\\.=\\+\\-]+', '', text)\n",
    "    sample_texts[i] = re.sub(r'https?://[\\w/:%#\\$&\\?\\(\\)~\\.=\\+\\-]+', '', text)\n",
    "print(sample_texts)"
   ]
  },
  {
   "cell_type": "markdown",
   "id": "71fe11f3-82da-42f9-904e-5e2ce24fc12c",
   "metadata": {},
   "source": [
    "### 絵文字の削除\n",
    "demojiライブラリを用いて絵文字の削除を行う."
   ]
  },
  {
   "cell_type": "code",
   "execution_count": 155,
   "id": "082ecf58-452c-4f99-966b-ecba71126432",
   "metadata": {},
   "outputs": [
    {
     "name": "stdout",
     "output_type": "stream",
     "text": [
      "['お友達の紹介で,女子2人で三時のティータイムに利用しました。', '2人用のソファに並んでいただきますv(^^)vなかよし(笑)', '最後に出された,モンブランのケーー－キ.', 'やばっっっ!!これはうまーい!!', 'とってもDeliciousで、サービスもGoodでした', 'これで2,500円はとってもお得です☆', '皆さんにもおすすめです！ リンクはこちらから', '', 'おとなりのcookie-shopもおいしそうでした(ニコニコ)!']\n"
     ]
    }
   ],
   "source": [
    "import demoji\n",
    "\n",
    "for i,text in enumerate(sample_texts):\n",
    "    sample_texts[i] = demoji.replace(string=text,repl=\"\")\n",
    "print(sample_texts)"
   ]
  },
  {
   "cell_type": "markdown",
   "id": "d5841fa2-c021-4069-a338-3b0e2c7ba75f",
   "metadata": {},
   "source": [
    "### 半角記号削除\n",
    "半角記号を羅列して削除する. ハイフン「-」はWi-fiのような単語があるため処理の対象外とする."
   ]
  },
  {
   "cell_type": "code",
   "execution_count": 156,
   "id": "2effd042-4150-4815-bb70-f3e37ff53820",
   "metadata": {},
   "outputs": [
    {
     "name": "stdout",
     "output_type": "stream",
     "text": [
      "['お友達の紹介で女子2人で三時のティータイムに利用しました。', '2人用のソファに並んでいただきますvvなかよし笑', '最後に出されたモンブランのケーー－キ', 'やばっっっこれはうまーい', 'とってもDeliciousで、サービスもGoodでした', 'これで2500円はとってもお得です☆', '皆さんにもおすすめです！ リンクはこちらから', '', 'おとなりのcookieshopもおいしそうでしたニコニコ']\n"
     ]
    }
   ],
   "source": [
    "import string\n",
    "\n",
    "for i,text in enumerate(sample_texts):\n",
    "    sample_texts[i] = text.translate(str.maketrans( '', '',string.punctuation))\n",
    "print(sample_texts)"
   ]
  },
  {
   "cell_type": "markdown",
   "id": "64ad5300-4444-4bba-b970-0887efc2f924",
   "metadata": {},
   "source": [
    "### 全角記号削除\n",
    "半角記号と同様に全角記号を削除する."
   ]
  },
  {
   "cell_type": "code",
   "execution_count": 157,
   "id": "49252751-ff35-4711-bf63-01d4862d26c2",
   "metadata": {},
   "outputs": [
    {
     "name": "stdout",
     "output_type": "stream",
     "text": [
      "['お友達の紹介で女子2人で三時のティータイムに利用しました。', '2人用のソファに並んでいただきますvvなかよし笑', '最後に出されたモンブランのケーー－キ', 'やばっっっこれはうまーい', 'とってもDeliciousで、サービスもGoodでした', 'これで2500円はとってもお得です', '皆さんにもおすすめです！ リンクはこちらから', '', 'おとなりのcookieshopもおいしそうでしたニコニコ']\n"
     ]
    }
   ],
   "source": [
    "for i,text in enumerate(sample_texts):\n",
    "    sample_texts[i] = re.sub(u'[■-♯]', \"\", text)\n",
    "print(sample_texts)"
   ]
  },
  {
   "cell_type": "markdown",
   "id": "8afa0284-86e4-4a29-aafb-49de5a93ef19",
   "metadata": {},
   "source": [
    "## ルールに沿った文字列の変換"
   ]
  },
  {
   "cell_type": "markdown",
   "id": "0b2713ab-0cdb-44c0-a784-74d8e22166d4",
   "metadata": {},
   "source": [
    "### 全角英数字を半角英数字に変化して, 2回以上連続する長音を1回に変換\n",
    "「キターーー」のような語を「キター」に変換する."
   ]
  },
  {
   "cell_type": "code",
   "execution_count": 158,
   "id": "90119631-bff6-4d81-a031-dd6c2ca72907",
   "metadata": {},
   "outputs": [
    {
     "name": "stdout",
     "output_type": "stream",
     "text": [
      "['お友達の紹介で女子2人で三時のティータイムに利用しました。', '2人用のソファに並んでいただきますvvなかよし笑', '最後に出されたモンブランのケーキ', 'やばっっっこれはうまーい', 'とってもDeliciousで、サービスもGoodでした', 'これで2500円はとってもお得です', '皆さんにもおすすめです!リンクはこちらから', '', 'おとなりのcookieshopもおいしそうでしたニコニコ']\n"
     ]
    }
   ],
   "source": [
    "import neologdn\n",
    "\n",
    "for i,text in enumerate(sample_texts):\n",
    "    sample_texts[i] = neologdn.normalize(text)\n",
    "print(sample_texts)"
   ]
  },
  {
   "cell_type": "markdown",
   "id": "e705497e-943a-44e2-a324-715b8c905c61",
   "metadata": {},
   "source": [
    "### 区切り文字を0に変換\n",
    "12,345,678のようなコンマ月の数字をすべて0に変換する. 数字が特に意味を持たないようなときにこの処理を行う."
   ]
  },
  {
   "cell_type": "code",
   "execution_count": 160,
   "id": "d294c69c-dac7-4cdb-a1a4-370a0c86a89d",
   "metadata": {},
   "outputs": [
    {
     "data": {
      "text/plain": [
       "'0'"
      ]
     },
     "execution_count": 160,
     "metadata": {},
     "output_type": "execute_result"
    }
   ],
   "source": [
    "re.sub(r'\\b\\d{1,3}(,\\d{3})*\\b', '0', \"12,345,678\")"
   ]
  },
  {
   "cell_type": "markdown",
   "id": "988b6da4-0ec4-45aa-858d-566f3869d750",
   "metadata": {},
   "source": [
    "### 数字を全て0に変換\n",
    "数字を全て0に変換する. 数字が特に意味を持たないようなときにこの処理を行う."
   ]
  },
  {
   "cell_type": "code",
   "execution_count": 161,
   "id": "079f51ed-0626-471f-be8a-1dc02557c426",
   "metadata": {},
   "outputs": [
    {
     "data": {
      "text/plain": [
       "'0'"
      ]
     },
     "execution_count": 161,
     "metadata": {},
     "output_type": "execute_result"
    }
   ],
   "source": [
    "re.sub(r'\\d+', '0', \"12345678\")"
   ]
  },
  {
   "cell_type": "markdown",
   "id": "a39bbd2e-99fb-4319-81b8-669363073dc7",
   "metadata": {},
   "source": [
    "## 単語への分割"
   ]
  },
  {
   "cell_type": "markdown",
   "id": "99c1c26d-508d-4d00-a81a-6da0e265c21a",
   "metadata": {},
   "source": [
    "### 形態素解析\n",
    "形態素解析とは文を形態素に分解する処理を行うことである. 例文「私は台所で料理します」を形態素解析すると「私/は/台所/で/料理/し/ます」になる."
   ]
  },
  {
   "cell_type": "code",
   "execution_count": 172,
   "id": "48ab0beb-d3fa-487c-8923-6b025150a51b",
   "metadata": {},
   "outputs": [
    {
     "name": "stdout",
     "output_type": "stream",
     "text": [
      "私\tワタクシ\tワタクシ\t私-代名詞\t代名詞\t\t\t0\n",
      "は\tワ\tハ\tは\t助詞-係助詞\t\t\t\n",
      "台所\tダイドコロ\tダイドコロ\t台所\t名詞-普通名詞-一般\t\t\t0\n",
      "で\tデ\tデ\tで\t助詞-格助詞\t\t\t\n",
      "料理\tリョーリ\tリョウリ\t料理\t名詞-普通名詞-サ変可能\t\t\t1\n",
      "し\tシ\tスル\t為る\t動詞-非自立可能\tサ行変格\t連用形-一般\t0\n",
      "ます\tマス\tマス\tます\t助動詞\t助動詞-マス\t終止形-一般\t\n",
      "EOS\n"
     ]
    }
   ],
   "source": [
    "import MeCab\n",
    "\n",
    "text = \"私は台所で料理します\"\n",
    "\n",
    "tagger = MeCab.Tagger()\n",
    "\n",
    "for line in tagger.parse(text).splitlines():\n",
    "    print(line)"
   ]
  }
 ],
 "metadata": {
  "kernelspec": {
   "display_name": "Python 3 (ipykernel)",
   "language": "python",
   "name": "python3"
  },
  "language_info": {
   "codemirror_mode": {
    "name": "ipython",
    "version": 3
   },
   "file_extension": ".py",
   "mimetype": "text/x-python",
   "name": "python",
   "nbconvert_exporter": "python",
   "pygments_lexer": "ipython3",
   "version": "3.8.10"
  }
 },
 "nbformat": 4,
 "nbformat_minor": 5
}
