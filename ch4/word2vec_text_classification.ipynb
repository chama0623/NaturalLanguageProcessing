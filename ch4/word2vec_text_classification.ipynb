{
 "cells": [
  {
   "cell_type": "code",
   "execution_count": 1,
   "id": "99319a8e-b8cb-4dd1-bc8a-87d291e6e573",
   "metadata": {},
   "outputs": [],
   "source": [
    "import os\n",
    "import numpy as np\n",
    "import matplotlib.pyplot as plt\n",
    "import itertools\n",
    "from string import punctuation\n",
    "from gensim.models import Word2Vec, KeyedVectors\n",
    "from nltk.tokenize import word_tokenize\n",
    "from nltk.corpus import stopwords\n",
    "\n",
    "from sklearn.linear_model import LogisticRegression\n",
    "from sklearn.model_selection import train_test_split\n",
    "from sklearn.metrics import accuracy_score, confusion_matrix"
   ]
  },
  {
   "cell_type": "markdown",
   "id": "148cbc41-f1fc-4587-8794-d8e7655ea98e",
   "metadata": {},
   "source": [
    "# データセットのダウンロード"
   ]
  },
  {
   "cell_type": "code",
   "execution_count": null,
   "id": "c34d2e96-ecbb-4cf5-84ae-534ff154635d",
   "metadata": {},
   "outputs": [
    {
     "name": "stdout",
     "output_type": "stream",
     "text": [
      "mkdir: cannot create directory ‘data’: File exists\n",
      "--2022-03-06 16:51:04--  http://archive.ics.uci.edu/ml/machine-learning-databases/00331/sentiment%20labelled%20sentences.zip\n",
      "Resolving archive.ics.uci.edu (archive.ics.uci.edu)... 128.195.10.252\n",
      "Connecting to archive.ics.uci.edu (archive.ics.uci.edu)|128.195.10.252|:80... connected.\n",
      "HTTP request sent, awaiting response... 200 OK\n",
      "Length: 84188 (82K) [application/x-httpd-php]\n",
      "Saving to: ‘data/sentiment labelled sentences.zip.1’\n",
      "\n",
      "sentiment labelled  100%[===================>]  82.21K   292KB/s    in 0.3s    \n",
      "\n",
      "2022-03-06 16:51:05 (292 KB/s) - ‘data/sentiment labelled sentences.zip.1’ saved [84188/84188]\n",
      "\n",
      "Archive:  data/sentiment labelled sentences.zip\n",
      "replace sentiment labelled sentences/.DS_Store? [y]es, [n]o, [A]ll, [N]one, [r]ename: "
     ]
    }
   ],
   "source": [
    "!mkdir data\n",
    "!wget -P data http://archive.ics.uci.edu/ml/machine-learning-databases/00331/sentiment%20labelled%20sentences.zip\n",
    "!unzip \"data/sentiment labelled sentences.zip\""
   ]
  },
  {
   "cell_type": "code",
   "execution_count": null,
   "id": "ac36675a-a670-4e43-bd01-4bbb2a702ef9",
   "metadata": {},
   "outputs": [],
   "source": [
    "!mv \"sentiment labelled sentences/\"*.txt .\n",
    "!cat amazon_cells_labelled.txt imdb_labelled.txt yelp_labelled.txt > data/sentiment_sentences.txt"
   ]
  },
  {
   "cell_type": "markdown",
   "id": "136b3311-f71a-402b-b948-f14d58f9977f",
   "metadata": {},
   "source": [
    "# データ, モデルの読み込み"
   ]
  },
  {
   "cell_type": "code",
   "execution_count": 6,
   "id": "85749d1e-4156-40ea-8128-2aa03e85f6c7",
   "metadata": {},
   "outputs": [
    {
     "name": "stdout",
     "output_type": "stream",
     "text": [
      "done loading Word2Vec\n"
     ]
    }
   ],
   "source": [
    "data_path = \"data\"\n",
    "model_path = \"/tmp/input/GoogleNews-vectors-negative300.bin.gz\"\n",
    "training_data_path = os.path.join(data_path,\"sentiment_sentences.txt\")\n",
    "w2v_model = KeyedVectors.load_word2vec_format(model_path, binary=True)\n",
    "print('done loading Word2Vec')\n",
    "\n",
    "# テキストデータとカテゴリの読み取り\n",
    "texts = []\n",
    "cats = []\n",
    "fh = open(training_data_path)\n",
    "for line in fh:\n",
    "    text, sentiment = line.split(\"\\t\")\n",
    "    texts.append(text)\n",
    "    cats.append(sentiment)"
   ]
  },
  {
   "cell_type": "code",
   "execution_count": 3,
   "id": "011c9234-03a3-4d45-a15e-122a67d4ecc1",
   "metadata": {},
   "outputs": [
    {
     "name": "stdout",
     "output_type": "stream",
     "text": [
      "3000 3000\n",
      "Good case, Excellent value.\n",
      "1\n",
      "\n"
     ]
    }
   ],
   "source": [
    "# データセットの確認\n",
    "print(len(cats), len(texts))\n",
    "print(texts[1])\n",
    "print(cats[1])"
   ]
  },
  {
   "cell_type": "markdown",
   "id": "104d5aac-2fc8-43cf-a7b3-ac64259b50fe",
   "metadata": {},
   "source": [
    "# 前処理"
   ]
  },
  {
   "cell_type": "code",
   "execution_count": 4,
   "id": "cfcc6b5e-8c0c-4192-9635-220da4b65d3b",
   "metadata": {},
   "outputs": [
    {
     "name": "stdout",
     "output_type": "stream",
     "text": [
      "3000 3000\n",
      "['good', 'case', 'excellent', 'value']\n",
      "1\n",
      "\n"
     ]
    }
   ],
   "source": [
    "# テキストの前処理\n",
    "def preprocess_corpus(texts):\n",
    "    mystopwords = set(stopwords.words(\"english\"))\n",
    "    def remove_stops_digits(tokens):\n",
    "        # 小文字化、ストップワードと数字の除去\n",
    "        return [token.lower() for token in tokens if token not in mystopwords and not token.isdigit()\n",
    "               and token not in punctuation]\n",
    "    return [remove_stops_digits(word_tokenize(text)) for text in texts]\n",
    "\n",
    "texts_processed = preprocess_corpus(texts)\n",
    "print(len(cats), len(texts_processed))\n",
    "print(texts_processed[1])\n",
    "print(cats[1])"
   ]
  },
  {
   "cell_type": "code",
   "execution_count": 7,
   "id": "41270a4e-fca3-4539-bda1-b0116e753540",
   "metadata": {},
   "outputs": [
    {
     "name": "stdout",
     "output_type": "stream",
     "text": [
      "3000\n"
     ]
    }
   ],
   "source": [
    "# 文に含まれる単語の埋め込みを平均して、特徴ベクトルを作成\n",
    "def embedding_feats(list_of_lists):\n",
    "    DIMENSION = 300\n",
    "    zero_vector = np.zeros(DIMENSION)\n",
    "    feats = []\n",
    "    for tokens in list_of_lists:\n",
    "        feat_for_this =  np.zeros(DIMENSION)\n",
    "        count_for_this = 0\n",
    "        for token in tokens: # tokensに含まれる1単語ずつに対して\n",
    "            if token in w2v_model: # モデルに単語が存在\n",
    "                feat_for_this += w2v_model[token]\n",
    "                count_for_this +=1\n",
    "        if count_for_this:\n",
    "          feats.append(feat_for_this / count_for_this)\n",
    "        else:\n",
    "          feats.append(feat_for_this)\n",
    "    return feats\n",
    "\n",
    "\n",
    "train_vectors = embedding_feats(texts_processed)\n",
    "print(len(train_vectors))"
   ]
  },
  {
   "cell_type": "markdown",
   "id": "cd8178fa-0e04-4374-aa66-bb1443b7278a",
   "metadata": {},
   "source": [
    "# モデリング"
   ]
  },
  {
   "cell_type": "code",
   "execution_count": 8,
   "id": "57a22379-2bc0-4685-81ed-10222c7bd327",
   "metadata": {},
   "outputs": [],
   "source": [
    "logreg = LogisticRegression(random_state=1234)\n",
    "train_data,test_data,train_cats,test_cats = train_test_split(train_vectors,cats)\n",
    "logreg.fit(train_data,train_cats)\n",
    "y_pred_cats = logreg.predict(test_data)"
   ]
  },
  {
   "cell_type": "code",
   "execution_count": 9,
   "id": "3cb6df16-c7d1-4893-884a-be6abc40539e",
   "metadata": {},
   "outputs": [],
   "source": [
    "def plot_confusion_matrix(cm, classes,\n",
    "                          normalize=False,\n",
    "                          title='Confusion matrix',\n",
    "                          cmap=plt.cm.Blues):\n",
    "    \"\"\"\n",
    "    This function prints and plots the confusion matrix.\n",
    "    Normalization can be applied by setting `normalize=True`.\n",
    "    \"\"\"\n",
    "    if normalize:\n",
    "        cm = cm.astype('float') / cm.sum(axis=1)[:, np.newaxis]\n",
    "\n",
    "    plt.imshow(cm, interpolation='nearest', cmap=cmap)\n",
    "    plt.title(title)\n",
    "    plt.colorbar()\n",
    "    tick_marks = np.arange(len(classes))\n",
    "    plt.xticks(tick_marks, classes, rotation=45)\n",
    "    plt.yticks(tick_marks, classes)\n",
    "\n",
    "    fmt = '.2f' if normalize else 'd'\n",
    "    thresh = cm.max() / 2.\n",
    "    for i, j in itertools.product(range(cm.shape[0]), range(cm.shape[1])):\n",
    "        plt.text(j, i, format(cm[i, j], fmt),\n",
    "                 horizontalalignment=\"center\",\n",
    "                 color=\"white\" if cm[i, j] > thresh else \"black\")\n",
    "\n",
    "    plt.tight_layout()\n",
    "    plt.ylabel('True label', fontsize=15)\n",
    "    plt.xlabel('Predicted label', fontsize=15)"
   ]
  },
  {
   "cell_type": "code",
   "execution_count": 13,
   "id": "15c49ca8-7351-482c-846d-9bfc29cfdc91",
   "metadata": {},
   "outputs": [
    {
     "name": "stdout",
     "output_type": "stream",
     "text": [
      "Accuracy:  0.828\n"
     ]
    },
    {
     "data": {
      "image/png": "[encoded data removed]",
      "text/plain": [
       "<Figure size 576x432 with 2 Axes>"
      ]
     },
     "metadata": {
      "needs_background": "light"
     },
     "output_type": "display_data"
    }
   ],
   "source": [
    "# 正解率\n",
    "print(\"Accuracy: \", accuracy_score(test_cats, y_pred_cats))\n",
    "\n",
    "    \n",
    "# 混同行列\n",
    "cnf_matrix = confusion_matrix(test_cats, y_pred_cats)\n",
    "plt.figure(figsize=(8,6))\n",
    "plot_confusion_matrix(\n",
    "    cnf_matrix,\n",
    "    classes=['0', '1'],\n",
    "    normalize=True,\n",
    "    title='Confusion matrix with all features'\n",
    ")"
   ]
  },
  {
   "cell_type": "code",
   "execution_count": null,
   "id": "8ceb4f7c-d8fc-4d5e-9d4a-c2e415bf147f",
   "metadata": {},
   "outputs": [],
   "source": []
  }
 ],
 "metadata": {
  "kernelspec": {
   "display_name": "Python 3 (ipykernel)",
   "language": "python",
   "name": "python3"
  },
  "language_info": {
   "codemirror_mode": {
    "name": "ipython",
    "version": 3
   },
   "file_extension": ".py",
   "mimetype": "text/x-python",
   "name": "python",
   "nbconvert_exporter": "python",
   "pygments_lexer": "ipython3",
   "version": "3.8.10"
  }
 },
 "nbformat": 4,
 "nbformat_minor": 5
}
